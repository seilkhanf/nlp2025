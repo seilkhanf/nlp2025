{
 "cells": [
  {
   "cell_type": "code",
   "execution_count": 1,
   "metadata": {},
   "outputs": [],
   "source": [
    "import re"
   ]
  },
  {
   "cell_type": "markdown",
   "metadata": {},
   "source": [
    "## Basic Syntax Elements:"
   ]
  },
  {
   "cell_type": "markdown",
   "metadata": {},
   "source": [
    "### Literal Characters (r'abc')"
   ]
  },
  {
   "cell_type": "code",
   "execution_count": 2,
   "metadata": {},
   "outputs": [
    {
     "name": "stdout",
     "output_type": "stream",
     "text": [
      "No match\n"
     ]
    }
   ],
   "source": [
    "text = \"abc is the beginning of the alphabet and ends with xyz\"\n",
    "pattern = r\"b\"\n",
    "match = re.match(pattern, text)\n",
    "print(match.group() if match else \"No match\")\n"
   ]
  },
  {
   "cell_type": "code",
   "execution_count": 3,
   "metadata": {},
   "outputs": [
    {
     "data": {
      "text/plain": [
       "['abc',\n",
       " 'is',\n",
       " 'the',\n",
       " 'beginning',\n",
       " 'of',\n",
       " 'the',\n",
       " 'alphabet',\n",
       " 'and',\n",
       " 'ends',\n",
       " 'with',\n",
       " 'xyz']"
      ]
     },
     "execution_count": 3,
     "metadata": {},
     "output_type": "execute_result"
    }
   ],
   "source": [
    "text.split()"
   ]
  },
  {
   "cell_type": "code",
   "execution_count": 4,
   "metadata": {},
   "outputs": [
    {
     "name": "stdout",
     "output_type": "stream",
     "text": [
      "['c', 'c', 'c', 'c', 'c']\n"
     ]
    }
   ],
   "source": [
    "\n",
    "text = \"abc abc abcxyz abcdfd bcv\"\n",
    "pattern = r\"c\"\n",
    "matches = re.findall(pattern, text)\n",
    "print(matches)"
   ]
  },
  {
   "cell_type": "markdown",
   "metadata": {},
   "source": [
    "### Dot (r'a.c')"
   ]
  },
  {
   "cell_type": "code",
   "execution_count": 5,
   "metadata": {},
   "outputs": [
    {
     "name": "stdout",
     "output_type": "stream",
     "text": [
      "afc\n"
     ]
    }
   ],
   "source": [
    "text = \"afc\"\n",
    "pattern = r\"a.c\"\n",
    "match = re.match(pattern, text)\n",
    "print(match.group() if match else \"No match\")\n"
   ]
  },
  {
   "cell_type": "code",
   "execution_count": 6,
   "metadata": {},
   "outputs": [
    {
     "name": "stdout",
     "output_type": "stream",
     "text": [
      "['abc', 'axc']\n"
     ]
    }
   ],
   "source": [
    "\n",
    "text = \"abc ac axc\"\n",
    "pattern = r\"a.c\"\n",
    "matches = re.findall(pattern, text)\n",
    "print(matches)\n"
   ]
  },
  {
   "cell_type": "markdown",
   "metadata": {},
   "source": [
    "### Caret (^)"
   ]
  },
  {
   "cell_type": "code",
   "execution_count": 7,
   "metadata": {},
   "outputs": [
    {
     "name": "stdout",
     "output_type": "stream",
     "text": [
      "abc\n"
     ]
    }
   ],
   "source": [
    "text = \"abcdef\"\n",
    "pattern = r\"^abc\"\n",
    "match = re.match(pattern, text)\n",
    "print(match.group() if match else \"No match\")\n"
   ]
  },
  {
   "cell_type": "code",
   "execution_count": 8,
   "metadata": {},
   "outputs": [
    {
     "name": "stdout",
     "output_type": "stream",
     "text": [
      "['abc']\n"
     ]
    }
   ],
   "source": [
    "\n",
    "text = \"abcdefabcabcd\"\n",
    "pattern = r\"^abc\"\n",
    "matches = re.findall(pattern, text)\n",
    "print(matches)\n"
   ]
  },
  {
   "cell_type": "markdown",
   "metadata": {},
   "source": [
    "### Dollar ($)"
   ]
  },
  {
   "cell_type": "code",
   "execution_count": 9,
   "metadata": {},
   "outputs": [
    {
     "name": "stdout",
     "output_type": "stream",
     "text": [
      "abc\n"
     ]
    }
   ],
   "source": [
    "\n",
    "text = \"xyzabc\"\n",
    "pattern = r\"abc$\"\n",
    "match = re.search(pattern, text)\n",
    "print(match.group() if match else \"No match\")"
   ]
  },
  {
   "cell_type": "code",
   "execution_count": 10,
   "metadata": {},
   "outputs": [
    {
     "name": "stdout",
     "output_type": "stream",
     "text": [
      "['abc']\n"
     ]
    }
   ],
   "source": [
    "\n",
    "text = \"abc def abc\"\n",
    "pattern = r\"abc$\"\n",
    "matches = re.findall(pattern, text)\n",
    "print(matches)"
   ]
  },
  {
   "cell_type": "markdown",
   "metadata": {},
   "source": [
    "### Square Brackets ([])"
   ]
  },
  {
   "cell_type": "code",
   "execution_count": 11,
   "metadata": {},
   "outputs": [
    {
     "name": "stdout",
     "output_type": "stream",
     "text": [
      "e\n"
     ]
    }
   ],
   "source": [
    "\n",
    "text = \"hello world all item\"\n",
    "pattern = r\"[aioue]\"\n",
    "match = re.search(pattern, text)\n",
    "print(match.group() if match else \"No match\")\n"
   ]
  },
  {
   "cell_type": "code",
   "execution_count": 12,
   "metadata": {},
   "outputs": [
    {
     "name": "stdout",
     "output_type": "stream",
     "text": [
      "e\n",
      "o\n",
      "o\n",
      "a\n",
      "i\n",
      "e\n"
     ]
    }
   ],
   "source": [
    "list_symb = []\n",
    "for letter in text:\n",
    "    for symb in pattern:\n",
    "        if letter == symb:\n",
    "            print(letter)\n",
    "            list_symb.append(letter)\n",
    "        "
   ]
  },
  {
   "cell_type": "code",
   "execution_count": 13,
   "metadata": {},
   "outputs": [
    {
     "name": "stdout",
     "output_type": "stream",
     "text": [
      "['e', 'o', 'o', 'a', 'i', 'e']\n"
     ]
    }
   ],
   "source": [
    "\n",
    "text = \"hello world all item\"\n",
    "pattern = r\"[aeiou]\"\n",
    "matches = re.findall(pattern, text)\n",
    "print(matches)\n"
   ]
  },
  {
   "cell_type": "markdown",
   "metadata": {},
   "source": [
    "### Hyphen (-)"
   ]
  },
  {
   "cell_type": "code",
   "execution_count": 14,
   "metadata": {},
   "outputs": [
    {
     "name": "stdout",
     "output_type": "stream",
     "text": [
      "9\n"
     ]
    }
   ],
   "source": [
    "\n",
    "text = \"abc9123 123\"\n",
    "pattern = r\"[0-9]\"\n",
    "match = re.search(pattern, text)\n",
    "print(match.group() if match else \"No match\")\n"
   ]
  },
  {
   "cell_type": "code",
   "execution_count": 15,
   "metadata": {},
   "outputs": [
    {
     "name": "stdout",
     "output_type": "stream",
     "text": [
      "['1', '2', '3', '4', '5', '6', '9']\n"
     ]
    }
   ],
   "source": [
    "\n",
    "text = \"abc123 def456 9\"\n",
    "pattern = r\"[0-9]\"\n",
    "matches = re.findall(pattern, text)\n",
    "print(matches)\n"
   ]
  },
  {
   "cell_type": "markdown",
   "metadata": {},
   "source": [
    "### Asterisk (*)"
   ]
  },
  {
   "cell_type": "code",
   "execution_count": 16,
   "metadata": {},
   "outputs": [
    {
     "name": "stdout",
     "output_type": "stream",
     "text": [
      "abcc\n"
     ]
    }
   ],
   "source": [
    "\n",
    "text = \"abcc abccc\"\n",
    "pattern = r\"abc*\"\n",
    "match = re.match(pattern, text)\n",
    "print(match.group() if match else \"No match\")\n"
   ]
  },
  {
   "cell_type": "code",
   "execution_count": 17,
   "metadata": {},
   "outputs": [
    {
     "name": "stdout",
     "output_type": "stream",
     "text": [
      "['abcc', 'ab']\n"
     ]
    }
   ],
   "source": [
    "text = \"abcc ab ac a bc\"\n",
    "pattern = r\"abc*\"\n",
    "matches = re.findall(pattern, text)\n",
    "print(matches)"
   ]
  },
  {
   "cell_type": "markdown",
   "metadata": {},
   "source": [
    "### Plus (+)"
   ]
  },
  {
   "cell_type": "code",
   "execution_count": 18,
   "metadata": {},
   "outputs": [
    {
     "name": "stdout",
     "output_type": "stream",
     "text": [
      "No match\n",
      "abc\n"
     ]
    }
   ],
   "source": [
    "text_1 = \"ac abcc ac abc\"\n",
    "text_2 = \"abc ac abc\"\n",
    "pattern = r\"abc+\"\n",
    "match = re.match(pattern, text_1)\n",
    "match_2 = re.match(pattern, text_2)\n",
    "print(match.group() if match else \"No match\")\n",
    "print(match_2.group() if match_2 else \"No match_2\")"
   ]
  },
  {
   "cell_type": "code",
   "execution_count": 19,
   "metadata": {},
   "outputs": [
    {
     "name": "stdout",
     "output_type": "stream",
     "text": [
      "['abcc', 'abc', 'abcc']\n"
     ]
    }
   ],
   "source": [
    "text = \"abcc abc a abccdhjdsf ab\"\n",
    "pattern = r\"abc+\"\n",
    "matches = re.findall(pattern, text)\n",
    "print(matches)"
   ]
  },
  {
   "cell_type": "markdown",
   "metadata": {},
   "source": [
    "### Question Mark (?)"
   ]
  },
  {
   "cell_type": "code",
   "execution_count": 20,
   "metadata": {},
   "outputs": [
    {
     "name": "stdout",
     "output_type": "stream",
     "text": [
      "ab\n"
     ]
    }
   ],
   "source": [
    "text = \"abdca\"\n",
    "pattern = r\"abc?\"\n",
    "match = re.match(pattern, text)\n",
    "print(match.group() if match else \"No match\")"
   ]
  },
  {
   "cell_type": "code",
   "execution_count": 21,
   "metadata": {},
   "outputs": [
    {
     "name": "stdout",
     "output_type": "stream",
     "text": [
      "['abcdf']\n"
     ]
    }
   ],
   "source": [
    "text = \"abcdfadcsadcs abcds a abcc abgfda\"\n",
    "pattern = r\"abcdf+\"\n",
    "matches = re.findall(pattern, text)\n",
    "print(matches)"
   ]
  },
  {
   "cell_type": "markdown",
   "metadata": {},
   "source": [
    "### Parentheses (())"
   ]
  },
  {
   "cell_type": "code",
   "execution_count": 22,
   "metadata": {},
   "outputs": [
    {
     "name": "stdout",
     "output_type": "stream",
     "text": [
      "abcabcabcabc\n"
     ]
    }
   ],
   "source": [
    "text = \"abcabcabcabc abc\"\n",
    "pattern = r\"(abc)+\"\n",
    "match = re.match(pattern, text)\n",
    "print(match.group() if match else \"No match\")"
   ]
  },
  {
   "cell_type": "code",
   "execution_count": 23,
   "metadata": {},
   "outputs": [
    {
     "name": "stdout",
     "output_type": "stream",
     "text": [
      "['abc', 'abc']\n"
     ]
    }
   ],
   "source": [
    "text = \"abcabc abchello abdcc\"\n",
    "pattern = r\"(abc)+\"\n",
    "matches = re.findall(pattern, text)\n",
    "print(matches)"
   ]
  },
  {
   "cell_type": "markdown",
   "metadata": {},
   "source": [
    "### Pipe (|)"
   ]
  },
  {
   "cell_type": "code",
   "execution_count": 24,
   "metadata": {},
   "outputs": [
    {
     "name": "stdout",
     "output_type": "stream",
     "text": [
      "abc\n"
     ]
    }
   ],
   "source": [
    "text = \"abc abcdef\"\n",
    "pattern = r\"abc|\"\n",
    "match = re.match(pattern, text)\n",
    "print(match.group() if match else \"No match\")"
   ]
  },
  {
   "cell_type": "code",
   "execution_count": 25,
   "metadata": {},
   "outputs": [
    {
     "name": "stdout",
     "output_type": "stream",
     "text": [
      "['abc', 'def', 'abc', 'abc', 'def']\n"
     ]
    }
   ],
   "source": [
    "text = \"abc def abc abcdef\"\n",
    "pattern = r\"abc|abcdef|def|abcdef\"\n",
    "matches = re.findall(pattern, text)\n",
    "print(matches)"
   ]
  },
  {
   "cell_type": "markdown",
   "metadata": {},
   "source": [
    "### Backslash (\\)"
   ]
  },
  {
   "cell_type": "code",
   "execution_count": 26,
   "metadata": {},
   "outputs": [
    {
     "name": "stdout",
     "output_type": "stream",
     "text": [
      ".\n"
     ]
    }
   ],
   "source": [
    "text = \"file.txt\"\n",
    "pattern = r\"\\.\"\n",
    "match = re.search(pattern, text)\n",
    "print(match.group(0) if match else \"No match\")"
   ]
  },
  {
   "cell_type": "code",
   "execution_count": 27,
   "metadata": {},
   "outputs": [
    {
     "name": "stdout",
     "output_type": "stream",
     "text": [
      "['.', '.']\n"
     ]
    }
   ],
   "source": [
    "text = \"file.txt image.jpg\"\n",
    "pattern = r\"\\.\"\n",
    "matches = re.findall(pattern, text)\n",
    "print(matches)"
   ]
  },
  {
   "cell_type": "markdown",
   "metadata": {},
   "source": [
    "## Complex and practical use cases"
   ]
  },
  {
   "cell_type": "code",
   "execution_count": 28,
   "metadata": {},
   "outputs": [
    {
     "data": {
      "text/plain": [
       "'.pdf'"
      ]
     },
     "execution_count": 28,
     "metadata": {},
     "output_type": "execute_result"
    }
   ],
   "source": [
    "text_1 = \"document.pdf\"\n",
    "pattern = r\"\\.([a-zA-Z0-9]+)$\"\n",
    "match = re.search(pattern, text_1)\n",
    "match.group(0)"
   ]
  },
  {
   "cell_type": "code",
   "execution_count": 29,
   "metadata": {},
   "outputs": [
    {
     "name": "stdout",
     "output_type": "stream",
     "text": [
      "File: document.pdf, Extension: pdf\n",
      "File: image.jpeg, Extension: jpeg\n",
      "File: data.csv, Extension: csv\n",
      "File: README.md, Extension: md\n",
      "File: file, No extension found\n"
     ]
    }
   ],
   "source": [
    "\n",
    "file_names = [\"document.pdf\", \"image.jpeg\", \"data.csv\", \"README.md\", \"file\"]\n",
    "\n",
    "pattern = r\"\\.([a-zA-Z0-9]+)$\"\n",
    "\n",
    "for file in file_names:\n",
    "    match = re.search(pattern, file)\n",
    "    if match:\n",
    "        print(f\"File: {file}, Extension: {match.group(1)}\")\n",
    "    else:\n",
    "        print(f\"File: {file}, No extension found\")\n"
   ]
  },
  {
   "cell_type": "markdown",
   "metadata": {},
   "source": [
    "## Common Character Classes:"
   ]
  },
  {
   "cell_type": "markdown",
   "metadata": {},
   "source": [
    "### \\d"
   ]
  },
  {
   "cell_type": "code",
   "execution_count": 310,
   "metadata": {},
   "outputs": [
    {
     "name": "stdout",
     "output_type": "stream",
     "text": [
      "['1', '2', '3']\n"
     ]
    }
   ],
   "source": [
    "\n",
    "text = \"There are 123 apples.\"\n",
    "\n",
    "pattern = r\"\\d\"\n",
    "\n",
    "matches = re.findall(pattern, text)\n",
    "print(matches)\n"
   ]
  },
  {
   "cell_type": "markdown",
   "metadata": {},
   "source": [
    "### /D"
   ]
  },
  {
   "cell_type": "code",
   "execution_count": 112,
   "metadata": {},
   "outputs": [
    {
     "name": "stdout",
     "output_type": "stream",
     "text": [
      "['O', 'r', 'd', 'e', 'r', ' ', 'n', 'u', 'm', 'b', 'e', 'r', ':', ' ', 'A', 'B', 'C', '!']\n"
     ]
    }
   ],
   "source": [
    "text = \"Order number: 123ABC!\"\n",
    "pattern = r\"\\D\"\n",
    "matches = re.findall(pattern, text)\n",
    "print(matches)\n"
   ]
  },
  {
   "cell_type": "markdown",
   "metadata": {},
   "source": [
    "### \\w"
   ]
  },
  {
   "cell_type": "code",
   "execution_count": 114,
   "metadata": {},
   "outputs": [
    {
     "name": "stdout",
     "output_type": "stream",
     "text": [
      "['P', 'y', 't', 'h', 'o', 'n', '_', '3', 'i', 's', 'f', 'u', 'n']\n"
     ]
    }
   ],
   "source": [
    "text = \"Python_3 is fun!\"\n",
    "pattern = r\"\\w\"\n",
    "matches = re.findall(pattern, text)\n",
    "print(matches)"
   ]
  },
  {
   "cell_type": "markdown",
   "metadata": {},
   "source": [
    "### \\W"
   ]
  },
  {
   "cell_type": "code",
   "execution_count": 115,
   "metadata": {},
   "outputs": [
    {
     "name": "stdout",
     "output_type": "stream",
     "text": [
      "[',', ' ', '!', ' ', '#']\n"
     ]
    }
   ],
   "source": [
    "text = \"Hello, world! #Python3\"\n",
    "pattern = r\"\\W\"\n",
    "matches = re.findall(pattern, text)\n",
    "print(matches)"
   ]
  },
  {
   "cell_type": "markdown",
   "metadata": {},
   "source": [
    "### \\s"
   ]
  },
  {
   "cell_type": "code",
   "execution_count": 116,
   "metadata": {},
   "outputs": [
    {
     "name": "stdout",
     "output_type": "stream",
     "text": [
      "[' ', '\\t', ' ', '\\n', ' ']\n"
     ]
    }
   ],
   "source": [
    "text = \"This is\\tan example\\nwith spaces.\"\n",
    "pattern = r\"\\s\"\n",
    "matches = re.findall(pattern, text)\n",
    "print(matches)\n"
   ]
  },
  {
   "cell_type": "markdown",
   "metadata": {},
   "source": [
    "### \\S"
   ]
  },
  {
   "cell_type": "code",
   "execution_count": 118,
   "metadata": {},
   "outputs": [
    {
     "name": "stdout",
     "output_type": "stream",
     "text": [
      "['T', 'h', 'i', 's', 'i', 's', 'a', 'n', 'e', 'x', 'a', 'm', 'p', 'l', 'e', 'w', 'i', 't', 'h', 's', 'p', 'a', 'c', 'e', 's', '.']\n"
     ]
    }
   ],
   "source": [
    "text = \"This is\\tan example\\nwith spaces.\"\n",
    "pattern = r\"\\S\"\n",
    "matches = re.findall(pattern, text)\n",
    "print(matches)\n"
   ]
  },
  {
   "cell_type": "markdown",
   "metadata": {},
   "source": [
    "## Regex Functions in Python (re module)"
   ]
  },
  {
   "cell_type": "markdown",
   "metadata": {},
   "source": [
    "### re.match(pattern, string)\n",
    "* Determines if the pattern matches at the beginning of the string."
   ]
  },
  {
   "cell_type": "code",
   "execution_count": 322,
   "metadata": {},
   "outputs": [
    {
     "name": "stdout",
     "output_type": "stream",
     "text": [
      "Hello,\n"
     ]
    }
   ],
   "source": [
    "text = \"Hello, world! Hello, Hello,\"\n",
    "pattern = r\"Hello,\"\n",
    "\n",
    "match = re.match(pattern, text)\n",
    "print(match.group(0) if match else \"No match\")\n"
   ]
  },
  {
   "cell_type": "code",
   "execution_count": 317,
   "metadata": {},
   "outputs": [
    {
     "data": {
      "text/plain": [
       "['Hello,', 'world!']"
      ]
     },
     "execution_count": 317,
     "metadata": {},
     "output_type": "execute_result"
    }
   ],
   "source": [
    "text.split(' ')"
   ]
  },
  {
   "cell_type": "code",
   "execution_count": 318,
   "metadata": {},
   "outputs": [],
   "source": [
    "def def_match(pattern, text):\n",
    "    text_s = text.split()\n",
    "\n",
    "    for elem in text_s:\n",
    "        if elem == pattern:\n",
    "            return elem"
   ]
  },
  {
   "cell_type": "code",
   "execution_count": 320,
   "metadata": {},
   "outputs": [],
   "source": [
    "def def_find_all(pattern, text):\n",
    "    all_list = []\n",
    "    text_s = text.split()\n",
    "\n",
    "    for elem in text_s:\n",
    "        if elem == pattern:\n",
    "            all_list.append(elem)\n",
    "    return all_list"
   ]
  },
  {
   "cell_type": "code",
   "execution_count": 323,
   "metadata": {},
   "outputs": [
    {
     "data": {
      "text/plain": [
       "['Hello,', 'Hello,', 'Hello,']"
      ]
     },
     "execution_count": 323,
     "metadata": {},
     "output_type": "execute_result"
    }
   ],
   "source": [
    "def_find_all(pattern, text)"
   ]
  },
  {
   "cell_type": "code",
   "execution_count": 319,
   "metadata": {},
   "outputs": [
    {
     "data": {
      "text/plain": [
       "'Hello,'"
      ]
     },
     "execution_count": 319,
     "metadata": {},
     "output_type": "execute_result"
    }
   ],
   "source": [
    "def_match(pattern, text)"
   ]
  },
  {
   "cell_type": "code",
   "execution_count": 212,
   "metadata": {},
   "outputs": [
    {
     "data": {
      "text/plain": [
       "<re.Match object; span=(0, 6), match='Hello,'>"
      ]
     },
     "execution_count": 212,
     "metadata": {},
     "output_type": "execute_result"
    }
   ],
   "source": [
    "match"
   ]
  },
  {
   "cell_type": "code",
   "execution_count": 114,
   "metadata": {},
   "outputs": [
    {
     "data": {
      "text/plain": [
       "'Hello'"
      ]
     },
     "execution_count": 114,
     "metadata": {},
     "output_type": "execute_result"
    }
   ],
   "source": [
    "match.group(0)"
   ]
  },
  {
   "cell_type": "code",
   "execution_count": 215,
   "metadata": {},
   "outputs": [
    {
     "name": "stdout",
     "output_type": "stream",
     "text": [
      "Hello, world start\n",
      "Hello\n",
      "world\n"
     ]
    }
   ],
   "source": [
    "text = \"Hello, world start\"\n",
    "pattern = r\"(Hello), (world) (start)\"\n",
    "\n",
    "match = re.match(pattern, text)\n",
    "print(match.group(0))  # Entire match\n",
    "print(match.group(1))  # First captured group (\"Hello\")\n",
    "print(match.group(2))  # Second captured group (\"world\")\n"
   ]
  },
  {
   "cell_type": "markdown",
   "metadata": {},
   "source": [
    "### re.search(pattern, string)\n",
    "* Searches the string for the first match of the pattern."
   ]
  },
  {
   "cell_type": "code",
   "execution_count": 217,
   "metadata": {},
   "outputs": [
    {
     "name": "stdout",
     "output_type": "stream",
     "text": [
      "fox\n"
     ]
    }
   ],
   "source": [
    "text = \"The; fox quick, brown fox fox\"\n",
    "pattern = r\"fox\"\n",
    "\n",
    "search = re.search(pattern, text)\n",
    "print(search.group() if search else \"No match\")\n"
   ]
  },
  {
   "cell_type": "code",
   "execution_count": 220,
   "metadata": {},
   "outputs": [
    {
     "name": "stdout",
     "output_type": "stream",
     "text": [
      "5\n",
      "8\n"
     ]
    }
   ],
   "source": [
    "print(search.start())\n",
    "print(search.end())"
   ]
  },
  {
   "cell_type": "code",
   "execution_count": 221,
   "metadata": {},
   "outputs": [
    {
     "data": {
      "text/plain": [
       "'fox'"
      ]
     },
     "execution_count": 221,
     "metadata": {},
     "output_type": "execute_result"
    }
   ],
   "source": [
    "text[search.start(): search.end()]"
   ]
  },
  {
   "cell_type": "code",
   "execution_count": 188,
   "metadata": {},
   "outputs": [
    {
     "data": {
      "text/plain": [
       "'The; fox quick, brown fox'"
      ]
     },
     "execution_count": 188,
     "metadata": {},
     "output_type": "execute_result"
    }
   ],
   "source": [
    "text"
   ]
  },
  {
   "cell_type": "markdown",
   "metadata": {},
   "source": [
    "### re.findall(pattern, string)\n",
    "* Returns a list of all non-overlapping matches of the pattern in the string."
   ]
  },
  {
   "cell_type": "code",
   "execution_count": 224,
   "metadata": {},
   "outputs": [
    {
     "name": "stdout",
     "output_type": "stream",
     "text": [
      "['12', '34', '56']\n"
     ]
    }
   ],
   "source": [
    "text = \" quick The 12 quick 34 brown 56 foxes. quick \"\n",
    "pattern = r\"\\d+\"  # Matches one or more digits\n",
    "#pattern = r\"quick\" \n",
    "matches = re.findall(pattern, text)\n",
    "print(matches)\n"
   ]
  },
  {
   "cell_type": "markdown",
   "metadata": {},
   "source": [
    "### re.finditer(pattern, string)"
   ]
  },
  {
   "cell_type": "code",
   "execution_count": 225,
   "metadata": {},
   "outputs": [
    {
     "name": "stdout",
     "output_type": "stream",
     "text": [
      "Found 12 at position 4 to 6\n",
      "Found 34 at position 13 to 15\n",
      "Found 56 at position 22 to 24\n"
     ]
    }
   ],
   "source": [
    "text = \"The 12 quick 34 brown 56 foxes.\"\n",
    "pattern = r\"\\d+\"  # Matches one or more digits\n",
    "\n",
    "matches = re.finditer(pattern, text)\n",
    "for match in matches:\n",
    "    print(f\"Found {match.group()} at position {match.start()} to {match.end()}\")"
   ]
  },
  {
   "cell_type": "markdown",
   "metadata": {},
   "source": [
    "### re.sub(pattern, repl, string)\n",
    "Replaces the matched pattern with the specified replacement string."
   ]
  },
  {
   "cell_type": "code",
   "execution_count": 226,
   "metadata": {},
   "outputs": [
    {
     "name": "stdout",
     "output_type": "stream",
     "text": [
      "Hello, Pythons!\n"
     ]
    }
   ],
   "source": [
    "text = \"Hello, worlds!\"\n",
    "pattern = r\"world\"\n",
    "replacement = \"Python\"\n",
    "\n",
    "new_text = re.sub(pattern, replacement, text)\n",
    "print(new_text)\n"
   ]
  },
  {
   "cell_type": "markdown",
   "metadata": {},
   "source": [
    "### re.split(pattern, string): Splits the string at every match of the pattern.\n",
    "\n"
   ]
  },
  {
   "cell_type": "code",
   "execution_count": 240,
   "metadata": {},
   "outputs": [
    {
     "name": "stdout",
     "output_type": "stream",
     "text": [
      "['apple', 'banana', ' cherry', 'orange', 'pineapple']\n"
     ]
    }
   ],
   "source": [
    "text = \"apple,banana. cherry,orange?pineapple\"\n",
    "pattern = r\"[.;,?]\"\n",
    "\n",
    "split_text = re.split(pattern, text)\n",
    "print(split_text)\n"
   ]
  },
  {
   "cell_type": "markdown",
   "metadata": {},
   "source": [
    "### re.compile(pattern): Compiles the regex pattern into a regex object, which can be used for repeated matches."
   ]
  },
  {
   "cell_type": "code",
   "execution_count": 243,
   "metadata": {},
   "outputs": [
    {
     "name": "stdout",
     "output_type": "stream",
     "text": [
      "['The', 'The']\n"
     ]
    }
   ],
   "source": [
    "pattern = re.compile(r\"The\")  # Compile a pattern that matches one or more digits\n",
    "text = \"The numbers The are 123 and 456\"\n",
    "\n",
    "matches = pattern.findall(text)\n",
    "print(matches)\n"
   ]
  },
  {
   "cell_type": "code",
   "execution_count": 244,
   "metadata": {},
   "outputs": [
    {
     "data": {
      "text/plain": [
       "'The'"
      ]
     },
     "execution_count": 244,
     "metadata": {},
     "output_type": "execute_result"
    }
   ],
   "source": [
    "pattern.search('The numbers are 123 and 456').group()"
   ]
  },
  {
   "cell_type": "markdown",
   "metadata": {},
   "source": [
    "### Additional and rarely used methods of RE"
   ]
  },
  {
   "cell_type": "markdown",
   "metadata": {},
   "source": [
    "### 1. re.fullmatch(pattern, string):"
   ]
  },
  {
   "cell_type": "code",
   "execution_count": 147,
   "metadata": {},
   "outputs": [
    {
     "name": "stdout",
     "output_type": "stream",
     "text": [
      "abc123\n"
     ]
    }
   ],
   "source": [
    "\n",
    "text = \"abc123\"\n",
    "pattern = r\"abc123\"\n",
    "\n",
    "match = re.fullmatch(pattern, text)\n",
    "print(match.group() if match else \"No match\")\n"
   ]
  },
  {
   "cell_type": "markdown",
   "metadata": {},
   "source": [
    "### 2. re.purge():\n",
    "* Clears the internal regex cache, which is useful if you're working with a large number of regex patterns and need to free up memory.\n"
   ]
  },
  {
   "cell_type": "code",
   "execution_count": 146,
   "metadata": {},
   "outputs": [],
   "source": [
    "\n",
    "pattern1 = re.compile(r\"\\d+\")\n",
    "pattern2 = re.compile(r\"[a-z]+\")\n",
    "\n",
    "re.purge()\n"
   ]
  },
  {
   "cell_type": "markdown",
   "metadata": {},
   "source": [
    "### 3. re.escape(string):\n",
    "* Escapes all non-alphanumeric characters in a string, making it safe to use in a regex pattern. This is useful when you want to match literal strings that may contain special regex characters (e.g., . or *)."
   ]
  },
  {
   "cell_type": "code",
   "execution_count": 158,
   "metadata": {},
   "outputs": [
    {
     "name": "stdout",
     "output_type": "stream",
     "text": [
      "Hello\\.\\$\\ How\\ \\*\\ are\\ you\\?\n"
     ]
    }
   ],
   "source": [
    "text = \"Hello.$ How * are you?\"\n",
    "escaped_text = re.escape(text)\n",
    "print(escaped_text)"
   ]
  },
  {
   "cell_type": "code",
   "execution_count": 159,
   "metadata": {},
   "outputs": [
    {
     "name": "stdout",
     "output_type": "stream",
     "text": [
      "Extracted Special Characters: ['\\\\.', '\\\\$', '\\\\*', '\\\\?']\n"
     ]
    }
   ],
   "source": [
    "pattern = r\"\\\\[.*$^()|?+{}[\\]]\"  \n",
    "\n",
    "matches = re.findall(pattern, escaped_text)\n",
    "print(f\"Extracted Special Characters: {matches}\")"
   ]
  },
  {
   "cell_type": "code",
   "execution_count": 160,
   "metadata": {},
   "outputs": [
    {
     "name": "stdout",
     "output_type": "stream",
     "text": [
      "Extracted Words: ['Hello', 'How', 'are', 'you']\n"
     ]
    }
   ],
   "source": [
    "\n",
    "words = re.findall(r'\\b\\w+\\b', text)\n",
    "\n",
    "print(f\"Extracted Words: {words}\")\n"
   ]
  },
  {
   "cell_type": "markdown",
   "metadata": {},
   "source": [
    "### 4.re.subn(pattern, repl, string):\n",
    "* Similar to re.sub(), but it also returns the number of substitutions made."
   ]
  },
  {
   "cell_type": "code",
   "execution_count": 162,
   "metadata": {},
   "outputs": [
    {
     "name": "stdout",
     "output_type": "stream",
     "text": [
      "I like dogs, dogs are great!\n",
      "2\n"
     ]
    }
   ],
   "source": [
    "import re\n",
    "\n",
    "text = \"I like cats, cats are great!\"\n",
    "pattern = r\"cats\"\n",
    "replacement = \"dogs\"\n",
    "\n",
    "new_text, num_subs = re.subn(pattern, replacement, text)\n",
    "print(new_text)  \n",
    "print(num_subs)  \n"
   ]
  },
  {
   "cell_type": "markdown",
   "metadata": {},
   "source": [
    "## Alternatives to Regex"
   ]
  },
  {
   "cell_type": "markdown",
   "metadata": {},
   "source": [
    "### 1. str.find(): Finds the first occurrence of a substring within a string."
   ]
  },
  {
   "cell_type": "code",
   "execution_count": 30,
   "metadata": {},
   "outputs": [
    {
     "name": "stdout",
     "output_type": "stream",
     "text": [
      "4\n"
     ]
    }
   ],
   "source": [
    "text = \"The quick brown fox\"\n",
    "substring = \"quick\"\n",
    "\n",
    "index = text.find(substring)\n",
    "print(index)  # Output: 4\n"
   ]
  },
  {
   "cell_type": "code",
   "execution_count": 31,
   "metadata": {},
   "outputs": [
    {
     "data": {
      "text/plain": [
       "'The q'"
      ]
     },
     "execution_count": 31,
     "metadata": {},
     "output_type": "execute_result"
    }
   ],
   "source": [
    "text[:5]"
   ]
  },
  {
   "cell_type": "code",
   "execution_count": 32,
   "metadata": {},
   "outputs": [
    {
     "data": {
      "text/plain": [
       "'quick'"
      ]
     },
     "execution_count": 32,
     "metadata": {},
     "output_type": "execute_result"
    }
   ],
   "source": [
    "text[index : index + len(substring)]"
   ]
  },
  {
   "cell_type": "code",
   "execution_count": 33,
   "metadata": {},
   "outputs": [],
   "source": [
    "def find_str(substring, text):\n",
    "\n",
    "    index = text.find(substring)\n",
    "    #return len(substring)\n",
    "    #return text[index:]\n",
    "    return text[index : index + len(substring)]"
   ]
  },
  {
   "cell_type": "code",
   "execution_count": 34,
   "metadata": {},
   "outputs": [
    {
     "data": {
      "text/plain": [
       "'quick'"
      ]
     },
     "execution_count": 34,
     "metadata": {},
     "output_type": "execute_result"
    }
   ],
   "source": [
    "find_str(substring, text)"
   ]
  },
  {
   "cell_type": "markdown",
   "metadata": {},
   "source": [
    "### 2. str.replace(): Replaces occurrences of a substring with another substring.\n"
   ]
  },
  {
   "cell_type": "code",
   "execution_count": 35,
   "metadata": {},
   "outputs": [
    {
     "name": "stdout",
     "output_type": "stream",
     "text": [
      "I love oranges, oranges are great!\n"
     ]
    }
   ],
   "source": [
    "text = \"I love apples, apples are great!\"\n",
    "new_text = text.replace(\"apples\", \"oranges\")\n",
    "print(new_text)  # Output: I love oranges, oranges are great!\n"
   ]
  },
  {
   "cell_type": "markdown",
   "metadata": {},
   "source": [
    "### 3. str.split(): Splits a string into a list based on a delimiter.\n"
   ]
  },
  {
   "cell_type": "code",
   "execution_count": 36,
   "metadata": {},
   "outputs": [
    {
     "name": "stdout",
     "output_type": "stream",
     "text": [
      "['apple', 'banana', 'orange']\n"
     ]
    }
   ],
   "source": [
    "text = \"apple,banana,orange\"\n",
    "fruits = text.split(\",\")\n",
    "print(fruits)  # Output: ['apple', 'banana', 'orange']\n"
   ]
  },
  {
   "cell_type": "markdown",
   "metadata": {},
   "source": [
    "## Alternatives to Regex"
   ]
  },
  {
   "cell_type": "code",
   "execution_count": 37,
   "metadata": {},
   "outputs": [
    {
     "name": "stdout",
     "output_type": "stream",
     "text": [
      "['Hello', '123']\n"
     ]
    }
   ],
   "source": [
    "from pyparsing import Word, alphas, nums\n",
    "\n",
    "word = Word(alphas)  # Matches a word of alphabetic characters\n",
    "number = Word(nums)  # Matches a number of digits\n",
    "\n",
    "pattern = word + number\n",
    "\n",
    "text = \"Hello 123\"\n",
    "result = pattern.parseString(text)\n",
    "\n",
    "print(result) "
   ]
  },
  {
   "cell_type": "markdown",
   "metadata": {},
   "source": [
    "### Regex"
   ]
  },
  {
   "cell_type": "code",
   "execution_count": 38,
   "metadata": {},
   "outputs": [
    {
     "name": "stdout",
     "output_type": "stream",
     "text": [
      "['Café']\n"
     ]
    }
   ],
   "source": [
    "import regex\n",
    "\n",
    "text = \"Café\"  # \"é\" is a Unicode character\n",
    "pattern = r\"\\p{L}+\"  # Matches one or more Unicode letters\n",
    "\n",
    "matches = regex.findall(pattern, text)\n",
    "print(matches)  # Output: ['Café']"
   ]
  }
 ],
 "metadata": {
  "kernelspec": {
   "display_name": "Python 3 (ipykernel)",
   "language": "python",
   "name": "python3"
  },
  "language_info": {
   "codemirror_mode": {
    "name": "ipython",
    "version": 3
   },
   "file_extension": ".py",
   "mimetype": "text/x-python",
   "name": "python",
   "nbconvert_exporter": "python",
   "pygments_lexer": "ipython3",
   "version": "3.12.4"
  }
 },
 "nbformat": 4,
 "nbformat_minor": 4
}
