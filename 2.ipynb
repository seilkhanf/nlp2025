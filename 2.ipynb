{
  "cells": [
    {
      "cell_type": "code",
      "execution_count": 7,
      "metadata": {
        "id": "W2KtN1iDYj9B"
      },
      "outputs": [],
      "source": [
        "import pandas as pd\n",
        "import numpy as np\n",
        "from tqdm import tqdm_notebook\n",
        "import os\n"
      ]
    },
    {
      "cell_type": "code",
      "source": [
        "import kagglehub\n",
        "\n",
        "# Download latest version\n",
        "path = kagglehub.dataset_download(\"yutkin/corpus-of-russian-news-articles-from-lenta\")\n",
        "\n",
        "print(\"Path to dataset files:\", path)"
      ],
      "metadata": {
        "colab": {
          "base_uri": "https://localhost:8080/"
        },
        "id": "qrRSVOSQdFG5",
        "outputId": "8b57c845-b691-445f-a99e-1b222505d682"
      },
      "execution_count": 5,
      "outputs": [
        {
          "output_type": "stream",
          "name": "stdout",
          "text": [
            "Downloading from https://www.kaggle.com/api/v1/datasets/download/yutkin/corpus-of-russian-news-articles-from-lenta?dataset_version_number=2...\n"
          ]
        },
        {
          "output_type": "stream",
          "name": "stderr",
          "text": [
            "100%|██████████| 584M/584M [00:06<00:00, 93.3MB/s]"
          ]
        },
        {
          "output_type": "stream",
          "name": "stdout",
          "text": [
            "Extracting files...\n"
          ]
        },
        {
          "output_type": "stream",
          "name": "stderr",
          "text": [
            "\n"
          ]
        },
        {
          "output_type": "stream",
          "name": "stdout",
          "text": [
            "Path to dataset files: /root/.cache/kagglehub/datasets/yutkin/corpus-of-russian-news-articles-from-lenta/versions/2\n"
          ]
        }
      ]
    },
    {
      "cell_type": "code",
      "source": [
        "print(\"Files in the dataset directory:\")\n",
        "print(os.listdir(path))\n",
        "\n",
        "csv_filename = \"lenta-ru-news.csv\"\n",
        "\n",
        "full_csv_path = os.path.join(path, csv_filename)\n",
        "\n",
        "ds = pd.read_csv(full_csv_path)\n",
        "\n",
        "print(ds.head())"
      ],
      "metadata": {
        "colab": {
          "base_uri": "https://localhost:8080/"
        },
        "id": "4_KA8octdQSB",
        "outputId": "d29ea897-b5eb-49c7-d082-2e621c9c219a"
      },
      "execution_count": 8,
      "outputs": [
        {
          "output_type": "stream",
          "name": "stdout",
          "text": [
            "Files in the dataset directory:\n",
            "['lenta-ru-news.csv']\n",
            "                                           url  \\\n",
            "0   https://lenta.ru/news/1914/09/16/hungarnn/   \n",
            "1  https://lenta.ru/news/1914/09/16/lermontov/   \n",
            "2  https://lenta.ru/news/1914/09/17/nesteroff/   \n",
            "3   https://lenta.ru/news/1914/09/17/bulldogn/   \n",
            "4       https://lenta.ru/news/1914/09/18/zver/   \n",
            "\n",
            "                                               title  \\\n",
            "0  1914. Русские войска вступили в пределы Венгрии     \n",
            "1  1914. Празднование столетия М.Ю. Лермонтова от...   \n",
            "2                           1914. Das ist Nesteroff!   \n",
            "3                    1914. Бульдог-гонец под Льежем    \n",
            "4           1914. Под Люблином пойман швабский зверь   \n",
            "\n",
            "                                                text       topic  \\\n",
            "0  Бои у Сопоцкина и Друскеник закончились отступ...  Библиотека   \n",
            "1  Министерство народного просвещения, в виду про...  Библиотека   \n",
            "2  Штабс-капитан П. Н. Нестеров на днях, увидев в...  Библиотека   \n",
            "3  Фотограф-корреспондент Daily Mirror рассказыва...  Библиотека   \n",
            "4  Лица, приехавшие в Варшаву из Люблина, передаю...  Библиотека   \n",
            "\n",
            "             tags        date  \n",
            "0  Первая мировая  1914/09/16  \n",
            "1  Первая мировая  1914/09/16  \n",
            "2  Первая мировая  1914/09/17  \n",
            "3  Первая мировая  1914/09/17  \n",
            "4  Первая мировая  1914/09/18  \n"
          ]
        },
        {
          "output_type": "stream",
          "name": "stderr",
          "text": [
            "/tmp/ipython-input-272810525.py:8: DtypeWarning: Columns (3) have mixed types. Specify dtype option on import or set low_memory=False.\n",
            "  ds = pd.read_csv(full_csv_path)\n"
          ]
        }
      ]
    },
    {
      "cell_type": "code",
      "execution_count": 9,
      "metadata": {
        "colab": {
          "base_uri": "https://localhost:8080/"
        },
        "id": "XOvbG-huYj9E",
        "outputId": "ff854545-b726-4cfe-95ec-51ac92d597ee"
      },
      "outputs": [
        {
          "output_type": "execute_result",
          "data": {
            "text/plain": [
              "(800975, 6)"
            ]
          },
          "metadata": {},
          "execution_count": 9
        }
      ],
      "source": [
        "ds.shape"
      ]
    },
    {
      "cell_type": "code",
      "execution_count": 10,
      "metadata": {
        "colab": {
          "base_uri": "https://localhost:8080/",
          "height": 272
        },
        "id": "b7zObz1RYj9E",
        "outputId": "468b1086-1297-454f-cef6-b67df0afec15"
      },
      "outputs": [
        {
          "output_type": "execute_result",
          "data": {
            "text/plain": [
              "url          0\n",
              "title        0\n",
              "text         5\n",
              "topic    62002\n",
              "tags     27219\n",
              "date         0\n",
              "dtype: int64"
            ],
            "text/html": [
              "<div>\n",
              "<style scoped>\n",
              "    .dataframe tbody tr th:only-of-type {\n",
              "        vertical-align: middle;\n",
              "    }\n",
              "\n",
              "    .dataframe tbody tr th {\n",
              "        vertical-align: top;\n",
              "    }\n",
              "\n",
              "    .dataframe thead th {\n",
              "        text-align: right;\n",
              "    }\n",
              "</style>\n",
              "<table border=\"1\" class=\"dataframe\">\n",
              "  <thead>\n",
              "    <tr style=\"text-align: right;\">\n",
              "      <th></th>\n",
              "      <th>0</th>\n",
              "    </tr>\n",
              "  </thead>\n",
              "  <tbody>\n",
              "    <tr>\n",
              "      <th>url</th>\n",
              "      <td>0</td>\n",
              "    </tr>\n",
              "    <tr>\n",
              "      <th>title</th>\n",
              "      <td>0</td>\n",
              "    </tr>\n",
              "    <tr>\n",
              "      <th>text</th>\n",
              "      <td>5</td>\n",
              "    </tr>\n",
              "    <tr>\n",
              "      <th>topic</th>\n",
              "      <td>62002</td>\n",
              "    </tr>\n",
              "    <tr>\n",
              "      <th>tags</th>\n",
              "      <td>27219</td>\n",
              "    </tr>\n",
              "    <tr>\n",
              "      <th>date</th>\n",
              "      <td>0</td>\n",
              "    </tr>\n",
              "  </tbody>\n",
              "</table>\n",
              "</div><br><label><b>dtype:</b> int64</label>"
            ]
          },
          "metadata": {},
          "execution_count": 10
        }
      ],
      "source": [
        "ds.isnull().sum()"
      ]
    },
    {
      "cell_type": "code",
      "execution_count": 11,
      "metadata": {
        "colab": {
          "base_uri": "https://localhost:8080/"
        },
        "id": "bNiEzsyqYj9F",
        "outputId": "194ff9df-29dd-46fe-cfd1-5b04e3d82c58"
      },
      "outputs": [
        {
          "output_type": "execute_result",
          "data": {
            "text/plain": [
              "(712654, 6)"
            ]
          },
          "metadata": {},
          "execution_count": 11
        }
      ],
      "source": [
        "ds.dropna(inplace= True)\n",
        "ds.shape"
      ]
    },
    {
      "cell_type": "code",
      "execution_count": 12,
      "metadata": {
        "id": "QKmAPbckYj9F"
      },
      "outputs": [],
      "source": [
        "ds_sample = ds.sample(n=1000)\n",
        "ds_sample.to_csv('ds_sample.csv',index = False)"
      ]
    },
    {
      "cell_type": "code",
      "execution_count": 13,
      "metadata": {
        "id": "Lu69CHKTYj9F"
      },
      "outputs": [],
      "source": [
        "new_data = pd.read_csv('ds_sample.csv')"
      ]
    },
    {
      "cell_type": "code",
      "execution_count": 14,
      "metadata": {
        "colab": {
          "base_uri": "https://localhost:8080/"
        },
        "id": "bXVZRSqqYj9F",
        "outputId": "76d2dc0b-e77f-40cb-a3f6-f9b8ed084b74"
      },
      "outputs": [
        {
          "output_type": "execute_result",
          "data": {
            "text/plain": [
              "(1000, 6)"
            ]
          },
          "metadata": {},
          "execution_count": 14
        }
      ],
      "source": [
        "new_data.dropna(inplace = True)\n",
        "new_data.shape"
      ]
    },
    {
      "cell_type": "markdown",
      "metadata": {
        "id": "CP3sTg71Yj9G"
      },
      "source": [
        "# Data exploration"
      ]
    },
    {
      "cell_type": "code",
      "execution_count": 15,
      "metadata": {
        "id": "BxzZP53MYj9H"
      },
      "outputs": [],
      "source": [
        "from collections import Counter"
      ]
    },
    {
      "cell_type": "code",
      "execution_count": 16,
      "metadata": {
        "scrolled": true,
        "colab": {
          "base_uri": "https://localhost:8080/"
        },
        "id": "p0FJRtcdYj9H",
        "outputId": "2415e956-e301-4b51-a1ca-52634bed3032"
      },
      "outputs": [
        {
          "output_type": "execute_result",
          "data": {
            "text/plain": [
              "Counter({'Все': 653,\n",
              "         'Хоккей': 2,\n",
              "         'Общество': 36,\n",
              "         'Госэкономика': 22,\n",
              "         'Зимние виды': 5,\n",
              "         'Интернет': 19,\n",
              "         'Стиль': 4,\n",
              "         'Криминал': 5,\n",
              "         'Бизнес': 12,\n",
              "         'События': 6,\n",
              "         'Украина': 23,\n",
              "         'Следствие и суд': 8,\n",
              "         'Еда': 1,\n",
              "         'Квартира': 5,\n",
              "         'Игры': 4,\n",
              "         'Преступная Россия': 2,\n",
              "         'Политика': 38,\n",
              "         'Люди': 8,\n",
              "         'Музыка': 8,\n",
              "         'Кино': 17,\n",
              "         'Полиция и спецслужбы': 3,\n",
              "         'Конфликты': 6,\n",
              "         'Мировой бизнес': 2,\n",
              "         'Происшествия': 11,\n",
              "         'ТВ и радио': 5,\n",
              "         'Рынки': 1,\n",
              "         'Космос': 3,\n",
              "         'Прибалтика': 3,\n",
              "         'Россия': 1,\n",
              "         'Coцсети': 6,\n",
              "         'Театр': 3,\n",
              "         'Город': 3,\n",
              "         'Вирусные ролики': 1,\n",
              "         'Техника': 1,\n",
              "         'Часы': 1,\n",
              "         'Москва': 3,\n",
              "         'Футбол': 19,\n",
              "         'Наука': 11,\n",
              "         'Деловой климат': 2,\n",
              "         'Белоруссия': 3,\n",
              "         'Звери': 2,\n",
              "         'Искусство': 1,\n",
              "         'Регионы': 1,\n",
              "         'Гаджеты': 3,\n",
              "         'Мир': 2,\n",
              "         'Мемы': 1,\n",
              "         'Бокс и ММА': 4,\n",
              "         'Летние виды': 4,\n",
              "         'Книги': 2,\n",
              "         'Молдавия': 1,\n",
              "         'Преступность': 3,\n",
              "         'Офис': 1,\n",
              "         'Оружие': 1,\n",
              "         'Финансы компаний': 1,\n",
              "         'Страноведение': 1,\n",
              "         'Закавказье': 1,\n",
              "         'Экология': 1,\n",
              "         'Деньги': 2,\n",
              "         'Софт': 1,\n",
              "         'Достижения': 1})"
            ]
          },
          "metadata": {},
          "execution_count": 16
        }
      ],
      "source": [
        "Counter(ds_sample.tags)"
      ]
    },
    {
      "cell_type": "code",
      "execution_count": 17,
      "metadata": {
        "scrolled": true,
        "colab": {
          "base_uri": "https://localhost:8080/"
        },
        "id": "gJWXYfv5Yj9H",
        "outputId": "cf877642-b910-4da5-dcae-374b13ab9b99"
      },
      "outputs": [
        {
          "output_type": "execute_result",
          "data": {
            "text/plain": [
              "{'Все': 453581,\n",
              " 'Политика': 33220,\n",
              " 'Общество': 27560,\n",
              " 'Украина': 17934,\n",
              " 'Происшествия': 15972,\n",
              " 'Футбол': 13128,\n",
              " 'Госэкономика': 12869,\n",
              " 'Кино': 9109,\n",
              " 'Бизнес': 8224,\n",
              " 'Интернет': 7945,\n",
              " 'Наука': 6975,\n",
              " 'Следствие и суд': 6825,\n",
              " 'Музыка': 5822,\n",
              " 'Люди': 5184,\n",
              " 'Преступность': 4737,\n",
              " 'Квартира': 3759,\n",
              " 'Космос': 3622,\n",
              " 'События': 3161,\n",
              " 'Конфликты': 3136,\n",
              " 'ТВ и радио': 3028,\n",
              " 'Coцсети': 2924,\n",
              " 'Летние виды': 2893,\n",
              " 'Деловой климат': 2656,\n",
              " 'Регионы': 2639,\n",
              " 'Криминал': 2550,\n",
              " 'Явления': 2523,\n",
              " 'Бокс и ММА': 2443,\n",
              " 'Звери': 2278,\n",
              " 'Город': 2247,\n",
              " 'Гаджеты': 2183,\n",
              " 'Мир': 2121,\n",
              " 'Стиль': 2090,\n",
              " 'Игры': 2072,\n",
              " 'Рынки': 2012,\n",
              " 'Пресса': 1805,\n",
              " 'Искусство': 1795,\n",
              " 'Зимние виды': 1677,\n",
              " 'Полиция и спецслужбы': 1635,\n",
              " 'Закавказье': 1442,\n",
              " 'Деньги': 1361,\n",
              " 'Москва': 1312,\n",
              " 'Прибалтика': 1242,\n",
              " 'Театр': 1217,\n",
              " 'Оружие': 1216,\n",
              " 'Техника': 1208,\n",
              " 'Книги': 1208,\n",
              " 'Средняя Азия': 1131,\n",
              " 'Дача': 1084,\n",
              " 'Белоруссия': 916,\n",
              " 'Хоккей': 915,\n",
              " 'Мировой бизнес': 854,\n",
              " 'Движение': 834,\n",
              " 'Офис': 783,\n",
              " 'Внешний вид': 727,\n",
              " 'Достижения': 718,\n",
              " 'Инструменты': 710,\n",
              " 'Россия': 706,\n",
              " 'Часы': 662,\n",
              " 'Софт': 652,\n",
              " 'Мнения': 615,\n",
              " 'Мемы': 477,\n",
              " 'Вирусные ролики': 474,\n",
              " 'Еда': 457,\n",
              " 'Молдавия': 439,\n",
              " 'Вещи': 424,\n",
              " 'Реклама': 389,\n",
              " 'История': 347,\n",
              " 'Жизнь': 333,\n",
              " 'Автобизнес': 310,\n",
              " 'Киберпреступность': 169,\n",
              " 'Финансы компаний': 155,\n",
              " 'Преступная Россия': 144,\n",
              " 'Авто': 141,\n",
              " 'Туризм': 85,\n",
              " 'Социальная сфера': 70,\n",
              " 'Первая мировая': 65,\n",
              " 'Вкусы': 54,\n",
              " 'Экология': 53,\n",
              " 'Наследие': 46,\n",
              " 'Госрегулирование': 41,\n",
              " 'Производители': 36,\n",
              " 'Аналитика рынка': 28,\n",
              " 'Фотография': 28,\n",
              " 'Страноведение': 21,\n",
              " 'Выборы': 11,\n",
              " 'Мировой опыт': 6,\n",
              " 'Вооружение': 3,\n",
              " 'Инновации': 1}"
            ]
          },
          "metadata": {},
          "execution_count": 17
        }
      ],
      "source": [
        "cntr = Counter(ds.tags)\n",
        "{k: v for k, v in sorted(cntr.items(), key=lambda item: item[1], reverse=True)}"
      ]
    },
    {
      "cell_type": "code",
      "execution_count": 18,
      "metadata": {
        "colab": {
          "base_uri": "https://localhost:8080/",
          "height": 171,
          "referenced_widgets": [
            "0646c5ef1cf144b58eea7a6613295bdc",
            "1b253a0d4a9e45bc928422e680a86e9e",
            "57e5d311483b49069151d8fbc0527063",
            "4429717a9c87428399501a4ae9d8480c",
            "1ab4f40e7cd44b15b08a8423b7d3add1",
            "ee2f7279e82e4484bcb0c5fb9a256c75",
            "bb07416cf7494777b7e9d12128351b84",
            "8dbeed7a12be430fa219eddb5e65a850",
            "c7e954ccbf6d418393a0f844f6c0ed7a",
            "53ce00d7fb104755abe534d3b09475f0",
            "df96e3b0dc1b460da167638c911a1811"
          ]
        },
        "id": "aFjavQ1jYj9I",
        "outputId": "721167f4-c641-442b-d785-2f5d96cad468"
      },
      "outputs": [
        {
          "output_type": "stream",
          "name": "stderr",
          "text": [
            "<>:6: SyntaxWarning: invalid escape sequence '\\,'\n",
            "<>:6: SyntaxWarning: invalid escape sequence '\\,'\n",
            "/tmp/ipython-input-1762243782.py:6: SyntaxWarning: invalid escape sequence '\\,'\n",
            "  punctuations = '''!()-[]{};:'\"\\,<>./?@#$%^&*_~abcdefghijklmnopqrstuvwxyzABCDEFGHIJKLMNOPQRSTUVWXYZ1234567890'''\n",
            "/tmp/ipython-input-1762243782.py:18: TqdmDeprecationWarning: This function will be removed in tqdm==5.0.0\n",
            "Please use `tqdm.notebook.tqdm` instead of `tqdm.tqdm_notebook`\n",
            "  no_punc_text = [rem_punc(t) for t in tqdm_notebook(texts)]\n"
          ]
        },
        {
          "output_type": "display_data",
          "data": {
            "text/plain": [
              "  0%|          | 0/1000 [00:00<?, ?it/s]"
            ],
            "application/vnd.jupyter.widget-view+json": {
              "version_major": 2,
              "version_minor": 0,
              "model_id": "0646c5ef1cf144b58eea7a6613295bdc"
            }
          },
          "metadata": {}
        }
      ],
      "source": [
        "texts = ds_sample.text.values\n",
        "#remove punctuation\n",
        "\n",
        "def rem_punc(t):\n",
        "# define punctuation\n",
        "    punctuations = '''!()-[]{};:'\"\\,<>./?@#$%^&*_~abcdefghijklmnopqrstuvwxyzABCDEFGHIJKLMNOPQRSTUVWXYZ1234567890'''\n",
        "\n",
        "\n",
        "# remove punctuation from the string\n",
        "    for c in punctuations:\n",
        "        t=t.replace(c,' ')\n",
        "\n",
        "\n",
        "# display the unpunctuated string\n",
        "    return t.replace('\\n',' ')\n",
        "\n",
        "\n",
        "no_punc_text = [rem_punc(t) for t in tqdm_notebook(texts)]"
      ]
    },
    {
      "cell_type": "code",
      "execution_count": 19,
      "metadata": {
        "colab": {
          "base_uri": "https://localhost:8080/",
          "height": 206,
          "referenced_widgets": [
            "34a46f84202d42e29c917ce28af75ba4",
            "fac63144c2ac47088fe4e4bcdb84053d",
            "c9267c82f8c5403cb2873a5332d0ccf2",
            "f0de2e773d9b4696a95703d306bfd93d",
            "052509988d0a42fab5df3094dddc7650",
            "66e7d182a9094de3990a4aa9a296b7ec",
            "ee3065c8b9c74a10bafdba671784f4fd",
            "efe3f314894f4b8888094d9e0602f216",
            "0f75fc7b41bd49b3bbe6be82f41d462b",
            "857e765290334ef4816b180346a4decf",
            "3120dd4e31974caea8df180064c6d0a7"
          ]
        },
        "id": "IMYPFb4qYj9I",
        "outputId": "688da08a-d00b-47d5-b192-2dd67cb85f45"
      },
      "outputs": [
        {
          "output_type": "stream",
          "name": "stderr",
          "text": [
            "/tmp/ipython-input-1263936609.py:2: TqdmDeprecationWarning: This function will be removed in tqdm==5.0.0\n",
            "Please use `tqdm.notebook.tqdm` instead of `tqdm.tqdm_notebook`\n",
            "  lc_text = [t.lower() for t in tqdm_notebook(no_punc_text)]\n"
          ]
        },
        {
          "output_type": "display_data",
          "data": {
            "text/plain": [
              "  0%|          | 0/1000 [00:00<?, ?it/s]"
            ],
            "application/vnd.jupyter.widget-view+json": {
              "version_major": 2,
              "version_minor": 0,
              "model_id": "34a46f84202d42e29c917ce28af75ba4"
            }
          },
          "metadata": {}
        },
        {
          "output_type": "execute_result",
          "data": {
            "text/plain": [
              "'лидер мадридского  реала  криштиану роналду забил победный гол в матче чемпионата испании против  расинга  из сантандера   реал  одержал выездную победу со счетом     и вышел в лидеры национального первенства  команда из мадрида опережает  барселону  за счет лучшей разницы забитых и пропущенных мячей  сообщает          роналду забил победный гол на    й минуте  реализовав пенальти в ворота  расинга   окончательный счет на    й минуте установил аргентинский нападающий  реала  гонсало игуаин  для криштиану роналду его гол стал    м в чемпионате испании  а для игуаина      м  первое место в споре бомбардиров по прежнему занимает аргентинский нападающий  барселоны  лионель месси  на счету которого    мячей  в субботу    апреля  месси забил гол в ворота  атлетика  из бильбао и помог  барселоне  одержать победу со счетом      после    туров  реал  и  барселона  набрали по    очков  в воскресенье     апреля  эти команды сыграют друг с другом на поле  реала  '"
            ],
            "application/vnd.google.colaboratory.intrinsic+json": {
              "type": "string"
            }
          },
          "metadata": {},
          "execution_count": 19
        }
      ],
      "source": [
        "#lowercase\n",
        "lc_text = [t.lower() for t in tqdm_notebook(no_punc_text)]\n",
        "lc_text[0]"
      ]
    },
    {
      "cell_type": "code",
      "execution_count": 20,
      "metadata": {
        "colab": {
          "base_uri": "https://localhost:8080/"
        },
        "id": "zWmWwCi6Yj9I",
        "outputId": "dc5fce8b-2034-4d4b-97b4-27b13ccbeed7"
      },
      "outputs": [
        {
          "output_type": "stream",
          "name": "stderr",
          "text": [
            "[nltk_data] Downloading package stopwords to /root/nltk_data...\n",
            "[nltk_data]   Unzipping corpora/stopwords.zip.\n"
          ]
        }
      ],
      "source": [
        "#stopword removal\n",
        "import nltk\n",
        "from nltk.corpus import stopwords\n",
        "import nltk\n",
        "nltk.download('stopwords')\n",
        "sw = stopwords.words('russian')"
      ]
    },
    {
      "cell_type": "code",
      "execution_count": 25,
      "metadata": {
        "colab": {
          "base_uri": "https://localhost:8080/"
        },
        "id": "EAGYUuY0Yj9J",
        "outputId": "6697a830-532e-48fb-8dc3-4fc7a9eeaf44"
      },
      "outputs": [
        {
          "output_type": "stream",
          "name": "stdout",
          "text": [
            "Original: ['Я', 'очень', 'люблю', 'изучать', 'обработку', 'естественного', 'языка']\n",
            "Without stopwords: ['очень', 'люблю', 'изучать', 'обработку', 'естественного', 'языка']\n"
          ]
        },
        {
          "output_type": "stream",
          "name": "stderr",
          "text": [
            "[nltk_data] Downloading package punkt_tab to /root/nltk_data...\n",
            "[nltk_data]   Unzipping tokenizers/punkt_tab.zip.\n",
            "[nltk_data] Downloading package stopwords to /root/nltk_data...\n",
            "[nltk_data]   Package stopwords is already up-to-date!\n"
          ]
        }
      ],
      "source": [
        "import nltk\n",
        "nltk.download('punkt_tab')\n",
        "nltk.download('stopwords')\n",
        "text = \"Я очень люблю изучать обработку естественного языка\"\n",
        "\n",
        "# tokenize into words\n",
        "words = nltk.word_tokenize(text, language=\"russian\")\n",
        "\n",
        "# filter out stopwords\n",
        "filtered = [w for w in words if w.lower() not in sw]\n",
        "\n",
        "print(\"Original:\", words)\n",
        "print(\"Without stopwords:\", filtered)"
      ]
    },
    {
      "cell_type": "code",
      "metadata": {
        "colab": {
          "base_uri": "https://localhost:8080/"
        },
        "id": "58050892",
        "outputId": "6db24647-1f22-4de2-9ad1-2ec2012f8195"
      },
      "source": [
        "nltk.download('punkt')"
      ],
      "execution_count": 26,
      "outputs": [
        {
          "output_type": "stream",
          "name": "stderr",
          "text": [
            "[nltk_data] Downloading package punkt to /root/nltk_data...\n",
            "[nltk_data]   Package punkt is already up-to-date!\n"
          ]
        },
        {
          "output_type": "execute_result",
          "data": {
            "text/plain": [
              "True"
            ]
          },
          "metadata": {},
          "execution_count": 26
        }
      ]
    },
    {
      "cell_type": "code",
      "execution_count": 27,
      "metadata": {
        "colab": {
          "base_uri": "https://localhost:8080/",
          "height": 206
        },
        "id": "U-9I0u8VYj9J",
        "outputId": "bccd905c-999f-43f3-a943-7441a83630a8"
      },
      "outputs": [
        {
          "output_type": "execute_result",
          "data": {
            "text/plain": [
              "                                           url  \\\n",
              "0   https://lenta.ru/news/1914/09/16/hungarnn/   \n",
              "1  https://lenta.ru/news/1914/09/16/lermontov/   \n",
              "2  https://lenta.ru/news/1914/09/17/nesteroff/   \n",
              "3   https://lenta.ru/news/1914/09/17/bulldogn/   \n",
              "4       https://lenta.ru/news/1914/09/18/zver/   \n",
              "\n",
              "                                               title  \\\n",
              "0  1914. Русские войска вступили в пределы Венгрии     \n",
              "1  1914. Празднование столетия М.Ю. Лермонтова от...   \n",
              "2                           1914. Das ist Nesteroff!   \n",
              "3                    1914. Бульдог-гонец под Льежем    \n",
              "4           1914. Под Люблином пойман швабский зверь   \n",
              "\n",
              "                                                text       topic  \\\n",
              "0  Бои у Сопоцкина и Друскеник закончились отступ...  Библиотека   \n",
              "1  Министерство народного просвещения, в виду про...  Библиотека   \n",
              "2  Штабс-капитан П. Н. Нестеров на днях, увидев в...  Библиотека   \n",
              "3  Фотограф-корреспондент Daily Mirror рассказыва...  Библиотека   \n",
              "4  Лица, приехавшие в Варшаву из Люблина, передаю...  Библиотека   \n",
              "\n",
              "             tags        date  \n",
              "0  Первая мировая  1914/09/16  \n",
              "1  Первая мировая  1914/09/16  \n",
              "2  Первая мировая  1914/09/17  \n",
              "3  Первая мировая  1914/09/17  \n",
              "4  Первая мировая  1914/09/18  "
            ],
            "text/html": [
              "\n",
              "  <div id=\"df-ba38d2fd-3cee-439a-8a53-fe8b8169f11f\" class=\"colab-df-container\">\n",
              "    <div>\n",
              "<style scoped>\n",
              "    .dataframe tbody tr th:only-of-type {\n",
              "        vertical-align: middle;\n",
              "    }\n",
              "\n",
              "    .dataframe tbody tr th {\n",
              "        vertical-align: top;\n",
              "    }\n",
              "\n",
              "    .dataframe thead th {\n",
              "        text-align: right;\n",
              "    }\n",
              "</style>\n",
              "<table border=\"1\" class=\"dataframe\">\n",
              "  <thead>\n",
              "    <tr style=\"text-align: right;\">\n",
              "      <th></th>\n",
              "      <th>url</th>\n",
              "      <th>title</th>\n",
              "      <th>text</th>\n",
              "      <th>topic</th>\n",
              "      <th>tags</th>\n",
              "      <th>date</th>\n",
              "    </tr>\n",
              "  </thead>\n",
              "  <tbody>\n",
              "    <tr>\n",
              "      <th>0</th>\n",
              "      <td>https://lenta.ru/news/1914/09/16/hungarnn/</td>\n",
              "      <td>1914. Русские войска вступили в пределы Венгрии</td>\n",
              "      <td>Бои у Сопоцкина и Друскеник закончились отступ...</td>\n",
              "      <td>Библиотека</td>\n",
              "      <td>Первая мировая</td>\n",
              "      <td>1914/09/16</td>\n",
              "    </tr>\n",
              "    <tr>\n",
              "      <th>1</th>\n",
              "      <td>https://lenta.ru/news/1914/09/16/lermontov/</td>\n",
              "      <td>1914. Празднование столетия М.Ю. Лермонтова от...</td>\n",
              "      <td>Министерство народного просвещения, в виду про...</td>\n",
              "      <td>Библиотека</td>\n",
              "      <td>Первая мировая</td>\n",
              "      <td>1914/09/16</td>\n",
              "    </tr>\n",
              "    <tr>\n",
              "      <th>2</th>\n",
              "      <td>https://lenta.ru/news/1914/09/17/nesteroff/</td>\n",
              "      <td>1914. Das ist Nesteroff!</td>\n",
              "      <td>Штабс-капитан П. Н. Нестеров на днях, увидев в...</td>\n",
              "      <td>Библиотека</td>\n",
              "      <td>Первая мировая</td>\n",
              "      <td>1914/09/17</td>\n",
              "    </tr>\n",
              "    <tr>\n",
              "      <th>3</th>\n",
              "      <td>https://lenta.ru/news/1914/09/17/bulldogn/</td>\n",
              "      <td>1914. Бульдог-гонец под Льежем</td>\n",
              "      <td>Фотограф-корреспондент Daily Mirror рассказыва...</td>\n",
              "      <td>Библиотека</td>\n",
              "      <td>Первая мировая</td>\n",
              "      <td>1914/09/17</td>\n",
              "    </tr>\n",
              "    <tr>\n",
              "      <th>4</th>\n",
              "      <td>https://lenta.ru/news/1914/09/18/zver/</td>\n",
              "      <td>1914. Под Люблином пойман швабский зверь</td>\n",
              "      <td>Лица, приехавшие в Варшаву из Люблина, передаю...</td>\n",
              "      <td>Библиотека</td>\n",
              "      <td>Первая мировая</td>\n",
              "      <td>1914/09/18</td>\n",
              "    </tr>\n",
              "  </tbody>\n",
              "</table>\n",
              "</div>\n",
              "    <div class=\"colab-df-buttons\">\n",
              "\n",
              "  <div class=\"colab-df-container\">\n",
              "    <button class=\"colab-df-convert\" onclick=\"convertToInteractive('df-ba38d2fd-3cee-439a-8a53-fe8b8169f11f')\"\n",
              "            title=\"Convert this dataframe to an interactive table.\"\n",
              "            style=\"display:none;\">\n",
              "\n",
              "  <svg xmlns=\"http://www.w3.org/2000/svg\" height=\"24px\" viewBox=\"0 -960 960 960\">\n",
              "    <path d=\"M120-120v-720h720v720H120Zm60-500h600v-160H180v160Zm220 220h160v-160H400v160Zm0 220h160v-160H400v160ZM180-400h160v-160H180v160Zm440 0h160v-160H620v160ZM180-180h160v-160H180v160Zm440 0h160v-160H620v160Z\"/>\n",
              "  </svg>\n",
              "    </button>\n",
              "\n",
              "  <style>\n",
              "    .colab-df-container {\n",
              "      display:flex;\n",
              "      gap: 12px;\n",
              "    }\n",
              "\n",
              "    .colab-df-convert {\n",
              "      background-color: #E8F0FE;\n",
              "      border: none;\n",
              "      border-radius: 50%;\n",
              "      cursor: pointer;\n",
              "      display: none;\n",
              "      fill: #1967D2;\n",
              "      height: 32px;\n",
              "      padding: 0 0 0 0;\n",
              "      width: 32px;\n",
              "    }\n",
              "\n",
              "    .colab-df-convert:hover {\n",
              "      background-color: #E2EBFA;\n",
              "      box-shadow: 0px 1px 2px rgba(60, 64, 67, 0.3), 0px 1px 3px 1px rgba(60, 64, 67, 0.15);\n",
              "      fill: #174EA6;\n",
              "    }\n",
              "\n",
              "    .colab-df-buttons div {\n",
              "      margin-bottom: 4px;\n",
              "    }\n",
              "\n",
              "    [theme=dark] .colab-df-convert {\n",
              "      background-color: #3B4455;\n",
              "      fill: #D2E3FC;\n",
              "    }\n",
              "\n",
              "    [theme=dark] .colab-df-convert:hover {\n",
              "      background-color: #434B5C;\n",
              "      box-shadow: 0px 1px 3px 1px rgba(0, 0, 0, 0.15);\n",
              "      filter: drop-shadow(0px 1px 2px rgba(0, 0, 0, 0.3));\n",
              "      fill: #FFFFFF;\n",
              "    }\n",
              "  </style>\n",
              "\n",
              "    <script>\n",
              "      const buttonEl =\n",
              "        document.querySelector('#df-ba38d2fd-3cee-439a-8a53-fe8b8169f11f button.colab-df-convert');\n",
              "      buttonEl.style.display =\n",
              "        google.colab.kernel.accessAllowed ? 'block' : 'none';\n",
              "\n",
              "      async function convertToInteractive(key) {\n",
              "        const element = document.querySelector('#df-ba38d2fd-3cee-439a-8a53-fe8b8169f11f');\n",
              "        const dataTable =\n",
              "          await google.colab.kernel.invokeFunction('convertToInteractive',\n",
              "                                                    [key], {});\n",
              "        if (!dataTable) return;\n",
              "\n",
              "        const docLinkHtml = 'Like what you see? Visit the ' +\n",
              "          '<a target=\"_blank\" href=https://colab.research.google.com/notebooks/data_table.ipynb>data table notebook</a>'\n",
              "          + ' to learn more about interactive tables.';\n",
              "        element.innerHTML = '';\n",
              "        dataTable['output_type'] = 'display_data';\n",
              "        await google.colab.output.renderOutput(dataTable, element);\n",
              "        const docLink = document.createElement('div');\n",
              "        docLink.innerHTML = docLinkHtml;\n",
              "        element.appendChild(docLink);\n",
              "      }\n",
              "    </script>\n",
              "  </div>\n",
              "\n",
              "\n",
              "    <div id=\"df-732de264-27a5-46a0-a9b9-ab54cf772f86\">\n",
              "      <button class=\"colab-df-quickchart\" onclick=\"quickchart('df-732de264-27a5-46a0-a9b9-ab54cf772f86')\"\n",
              "                title=\"Suggest charts\"\n",
              "                style=\"display:none;\">\n",
              "\n",
              "<svg xmlns=\"http://www.w3.org/2000/svg\" height=\"24px\"viewBox=\"0 0 24 24\"\n",
              "     width=\"24px\">\n",
              "    <g>\n",
              "        <path d=\"M19 3H5c-1.1 0-2 .9-2 2v14c0 1.1.9 2 2 2h14c1.1 0 2-.9 2-2V5c0-1.1-.9-2-2-2zM9 17H7v-7h2v7zm4 0h-2V7h2v10zm4 0h-2v-4h2v4z\"/>\n",
              "    </g>\n",
              "</svg>\n",
              "      </button>\n",
              "\n",
              "<style>\n",
              "  .colab-df-quickchart {\n",
              "      --bg-color: #E8F0FE;\n",
              "      --fill-color: #1967D2;\n",
              "      --hover-bg-color: #E2EBFA;\n",
              "      --hover-fill-color: #174EA6;\n",
              "      --disabled-fill-color: #AAA;\n",
              "      --disabled-bg-color: #DDD;\n",
              "  }\n",
              "\n",
              "  [theme=dark] .colab-df-quickchart {\n",
              "      --bg-color: #3B4455;\n",
              "      --fill-color: #D2E3FC;\n",
              "      --hover-bg-color: #434B5C;\n",
              "      --hover-fill-color: #FFFFFF;\n",
              "      --disabled-bg-color: #3B4455;\n",
              "      --disabled-fill-color: #666;\n",
              "  }\n",
              "\n",
              "  .colab-df-quickchart {\n",
              "    background-color: var(--bg-color);\n",
              "    border: none;\n",
              "    border-radius: 50%;\n",
              "    cursor: pointer;\n",
              "    display: none;\n",
              "    fill: var(--fill-color);\n",
              "    height: 32px;\n",
              "    padding: 0;\n",
              "    width: 32px;\n",
              "  }\n",
              "\n",
              "  .colab-df-quickchart:hover {\n",
              "    background-color: var(--hover-bg-color);\n",
              "    box-shadow: 0 1px 2px rgba(60, 64, 67, 0.3), 0 1px 3px 1px rgba(60, 64, 67, 0.15);\n",
              "    fill: var(--button-hover-fill-color);\n",
              "  }\n",
              "\n",
              "  .colab-df-quickchart-complete:disabled,\n",
              "  .colab-df-quickchart-complete:disabled:hover {\n",
              "    background-color: var(--disabled-bg-color);\n",
              "    fill: var(--disabled-fill-color);\n",
              "    box-shadow: none;\n",
              "  }\n",
              "\n",
              "  .colab-df-spinner {\n",
              "    border: 2px solid var(--fill-color);\n",
              "    border-color: transparent;\n",
              "    border-bottom-color: var(--fill-color);\n",
              "    animation:\n",
              "      spin 1s steps(1) infinite;\n",
              "  }\n",
              "\n",
              "  @keyframes spin {\n",
              "    0% {\n",
              "      border-color: transparent;\n",
              "      border-bottom-color: var(--fill-color);\n",
              "      border-left-color: var(--fill-color);\n",
              "    }\n",
              "    20% {\n",
              "      border-color: transparent;\n",
              "      border-left-color: var(--fill-color);\n",
              "      border-top-color: var(--fill-color);\n",
              "    }\n",
              "    30% {\n",
              "      border-color: transparent;\n",
              "      border-left-color: var(--fill-color);\n",
              "      border-top-color: var(--fill-color);\n",
              "      border-right-color: var(--fill-color);\n",
              "    }\n",
              "    40% {\n",
              "      border-color: transparent;\n",
              "      border-right-color: var(--fill-color);\n",
              "      border-top-color: var(--fill-color);\n",
              "    }\n",
              "    60% {\n",
              "      border-color: transparent;\n",
              "      border-right-color: var(--fill-color);\n",
              "    }\n",
              "    80% {\n",
              "      border-color: transparent;\n",
              "      border-right-color: var(--fill-color);\n",
              "      border-bottom-color: var(--fill-color);\n",
              "    }\n",
              "    90% {\n",
              "      border-color: transparent;\n",
              "      border-bottom-color: var(--fill-color);\n",
              "    }\n",
              "  }\n",
              "</style>\n",
              "\n",
              "      <script>\n",
              "        async function quickchart(key) {\n",
              "          const quickchartButtonEl =\n",
              "            document.querySelector('#' + key + ' button');\n",
              "          quickchartButtonEl.disabled = true;  // To prevent multiple clicks.\n",
              "          quickchartButtonEl.classList.add('colab-df-spinner');\n",
              "          try {\n",
              "            const charts = await google.colab.kernel.invokeFunction(\n",
              "                'suggestCharts', [key], {});\n",
              "          } catch (error) {\n",
              "            console.error('Error during call to suggestCharts:', error);\n",
              "          }\n",
              "          quickchartButtonEl.classList.remove('colab-df-spinner');\n",
              "          quickchartButtonEl.classList.add('colab-df-quickchart-complete');\n",
              "        }\n",
              "        (() => {\n",
              "          let quickchartButtonEl =\n",
              "            document.querySelector('#df-732de264-27a5-46a0-a9b9-ab54cf772f86 button');\n",
              "          quickchartButtonEl.style.display =\n",
              "            google.colab.kernel.accessAllowed ? 'block' : 'none';\n",
              "        })();\n",
              "      </script>\n",
              "    </div>\n",
              "\n",
              "    </div>\n",
              "  </div>\n"
            ],
            "application/vnd.google.colaboratory.intrinsic+json": {
              "type": "dataframe",
              "variable_name": "ds"
            }
          },
          "metadata": {},
          "execution_count": 27
        }
      ],
      "source": [
        "ds.head()"
      ]
    },
    {
      "cell_type": "code",
      "execution_count": 28,
      "metadata": {
        "colab": {
          "base_uri": "https://localhost:8080/",
          "height": 35
        },
        "id": "0gGENEI-Yj9J",
        "outputId": "94fa066e-bf22-404d-ed9f-1989bce4dbc8"
      },
      "outputs": [
        {
          "output_type": "execute_result",
          "data": {
            "text/plain": [
              "'1914. Русские войска вступили в\\xa0пределы Венгрии  '"
            ],
            "application/vnd.google.colaboratory.intrinsic+json": {
              "type": "string"
            }
          },
          "metadata": {},
          "execution_count": 28
        }
      ],
      "source": [
        "ds['title'][0]"
      ]
    },
    {
      "cell_type": "code",
      "execution_count": 29,
      "metadata": {
        "id": "-sWcBe42Yj9K"
      },
      "outputs": [],
      "source": [
        "words = nltk.word_tokenize(ds['title'][0], language=\"russian\")"
      ]
    },
    {
      "cell_type": "code",
      "execution_count": 30,
      "metadata": {
        "colab": {
          "base_uri": "https://localhost:8080/"
        },
        "id": "AA5UyFkmYj9K",
        "outputId": "9f9f32ab-c15a-462d-f213-99fc0a72c2e5"
      },
      "outputs": [
        {
          "output_type": "execute_result",
          "data": {
            "text/plain": [
              "['1914', '.', 'Русские', 'войска', 'вступили', 'в', 'пределы', 'Венгрии']"
            ]
          },
          "metadata": {},
          "execution_count": 30
        }
      ],
      "source": [
        "words"
      ]
    },
    {
      "cell_type": "code",
      "execution_count": null,
      "metadata": {
        "id": "1DoTLMi3Yj9K"
      },
      "outputs": [],
      "source": [
        "# Clean the data set from stop words\n",
        "# your code"
      ]
    },
    {
      "cell_type": "code",
      "execution_count": 35,
      "metadata": {
        "colab": {
          "base_uri": "https://localhost:8080/"
        },
        "id": "ne_vY1KoYj9K",
        "outputId": "b714d092-ab53-4c2c-b372-bbd0ee59a37c"
      },
      "outputs": [
        {
          "output_type": "stream",
          "name": "stdout",
          "text": [
            "                                                     text  \\\n",
            "325481  Лидер мадридского \"Реала\" Криштиану Роналду за...   \n",
            "389753  Актер Иван Охлобыстин объявил, что больше не н...   \n",
            "84678   В центральноафриканским государстве Бенин при ...   \n",
            "688802  Защитник подольского «Витязя» Алексей Семенов ...   \n",
            "334150  Задолженность Белоруссии перед \"Газпромом\" за ...   \n",
            "...                                                   ...   \n",
            "484505  В Норвегии охотник на лосей случайно подстрели...   \n",
            "384437  Восемь россиян были госпитализированы в Турции...   \n",
            "199071  Итальянский кинорежиссер Джузеппе Торнаторе, г...   \n",
            "663956  По меньшей мере пять человек стали жертвами ци...   \n",
            "307762  Федеральная антимонопольная служба (ФАС) намер...   \n",
            "\n",
            "                                             text_cleaned  \n",
            "325481  Лидер мадридского `` Реала '' Криштиану Роналд...  \n",
            "389753  Актер Иван Охлобыстин объявил , намерен баллот...  \n",
            "84678   центральноафриканским государстве Бенин вылете...  \n",
            "688802  Защитник подольского « Витязя » Алексей Семено...  \n",
            "334150  Задолженность Белоруссии `` Газпромом '' поста...  \n",
            "...                                                   ...  \n",
            "484505  Норвегии охотник лосей случайно подстрелил сид...  \n",
            "384437  Восемь россиян госпитализированы Турции резуль...  \n",
            "199071  Итальянский кинорежиссер Джузеппе Торнаторе , ...  \n",
            "663956  меньшей мере пять человек стали жертвами цикло...  \n",
            "307762  Федеральная антимонопольная служба ( ФАС ) нам...  \n",
            "\n",
            "[1000 rows x 2 columns]\n"
          ]
        }
      ],
      "source": [
        "def clean_text_stopwords(text, stop_words):\n",
        "  if pd.isna(text):\n",
        "    return text\n",
        "  words = nltk.word_tokenize(text, language=\"russian\")\n",
        "  filtered_words = [w for w in words if w.lower() not in stop_words]\n",
        "  return \" \".join(filtered_words)\n",
        "\n",
        "ds_sample['text_cleaned'] = ds_sample['text'].apply(lambda x: clean_text_stopwords(x, sw))\n",
        "\n",
        "print(ds_sample[['text', 'text_cleaned']])"
      ]
    },
    {
      "cell_type": "code",
      "source": [
        "ds_sample.to_csv('ds_sample_cleaned.csv', index=False)"
      ],
      "metadata": {
        "id": "-J-V0acbfJ8f"
      },
      "execution_count": 36,
      "outputs": []
    }
  ],
  "metadata": {
    "kernelspec": {
      "display_name": "Python 3",
      "name": "python3"
    },
    "language_info": {
      "codemirror_mode": {
        "name": "ipython",
        "version": 3
      },
      "file_extension": ".py",
      "mimetype": "text/x-python",
      "name": "python",
      "nbconvert_exporter": "python",
      "pygments_lexer": "ipython3",
      "version": "3.12.4"
    },
    "colab": {
      "provenance": [],
      "gpuType": "T4"
    },
    "accelerator": "GPU",
    "widgets": {
      "application/vnd.jupyter.widget-state+json": {
        "0646c5ef1cf144b58eea7a6613295bdc": {
          "model_module": "@jupyter-widgets/controls",
          "model_name": "HBoxModel",
          "model_module_version": "1.5.0",
          "state": {
            "_dom_classes": [],
            "_model_module": "@jupyter-widgets/controls",
            "_model_module_version": "1.5.0",
            "_model_name": "HBoxModel",
            "_view_count": null,
            "_view_module": "@jupyter-widgets/controls",
            "_view_module_version": "1.5.0",
            "_view_name": "HBoxView",
            "box_style": "",
            "children": [
              "IPY_MODEL_1b253a0d4a9e45bc928422e680a86e9e",
              "IPY_MODEL_57e5d311483b49069151d8fbc0527063",
              "IPY_MODEL_4429717a9c87428399501a4ae9d8480c"
            ],
            "layout": "IPY_MODEL_1ab4f40e7cd44b15b08a8423b7d3add1"
          }
        },
        "1b253a0d4a9e45bc928422e680a86e9e": {
          "model_module": "@jupyter-widgets/controls",
          "model_name": "HTMLModel",
          "model_module_version": "1.5.0",
          "state": {
            "_dom_classes": [],
            "_model_module": "@jupyter-widgets/controls",
            "_model_module_version": "1.5.0",
            "_model_name": "HTMLModel",
            "_view_count": null,
            "_view_module": "@jupyter-widgets/controls",
            "_view_module_version": "1.5.0",
            "_view_name": "HTMLView",
            "description": "",
            "description_tooltip": null,
            "layout": "IPY_MODEL_ee2f7279e82e4484bcb0c5fb9a256c75",
            "placeholder": "​",
            "style": "IPY_MODEL_bb07416cf7494777b7e9d12128351b84",
            "value": "100%"
          }
        },
        "57e5d311483b49069151d8fbc0527063": {
          "model_module": "@jupyter-widgets/controls",
          "model_name": "FloatProgressModel",
          "model_module_version": "1.5.0",
          "state": {
            "_dom_classes": [],
            "_model_module": "@jupyter-widgets/controls",
            "_model_module_version": "1.5.0",
            "_model_name": "FloatProgressModel",
            "_view_count": null,
            "_view_module": "@jupyter-widgets/controls",
            "_view_module_version": "1.5.0",
            "_view_name": "ProgressView",
            "bar_style": "success",
            "description": "",
            "description_tooltip": null,
            "layout": "IPY_MODEL_8dbeed7a12be430fa219eddb5e65a850",
            "max": 1000,
            "min": 0,
            "orientation": "horizontal",
            "style": "IPY_MODEL_c7e954ccbf6d418393a0f844f6c0ed7a",
            "value": 1000
          }
        },
        "4429717a9c87428399501a4ae9d8480c": {
          "model_module": "@jupyter-widgets/controls",
          "model_name": "HTMLModel",
          "model_module_version": "1.5.0",
          "state": {
            "_dom_classes": [],
            "_model_module": "@jupyter-widgets/controls",
            "_model_module_version": "1.5.0",
            "_model_name": "HTMLModel",
            "_view_count": null,
            "_view_module": "@jupyter-widgets/controls",
            "_view_module_version": "1.5.0",
            "_view_name": "HTMLView",
            "description": "",
            "description_tooltip": null,
            "layout": "IPY_MODEL_53ce00d7fb104755abe534d3b09475f0",
            "placeholder": "​",
            "style": "IPY_MODEL_df96e3b0dc1b460da167638c911a1811",
            "value": " 1000/1000 [00:00&lt;00:00, 18834.21it/s]"
          }
        },
        "1ab4f40e7cd44b15b08a8423b7d3add1": {
          "model_module": "@jupyter-widgets/base",
          "model_name": "LayoutModel",
          "model_module_version": "1.2.0",
          "state": {
            "_model_module": "@jupyter-widgets/base",
            "_model_module_version": "1.2.0",
            "_model_name": "LayoutModel",
            "_view_count": null,
            "_view_module": "@jupyter-widgets/base",
            "_view_module_version": "1.2.0",
            "_view_name": "LayoutView",
            "align_content": null,
            "align_items": null,
            "align_self": null,
            "border": null,
            "bottom": null,
            "display": null,
            "flex": null,
            "flex_flow": null,
            "grid_area": null,
            "grid_auto_columns": null,
            "grid_auto_flow": null,
            "grid_auto_rows": null,
            "grid_column": null,
            "grid_gap": null,
            "grid_row": null,
            "grid_template_areas": null,
            "grid_template_columns": null,
            "grid_template_rows": null,
            "height": null,
            "justify_content": null,
            "justify_items": null,
            "left": null,
            "margin": null,
            "max_height": null,
            "max_width": null,
            "min_height": null,
            "min_width": null,
            "object_fit": null,
            "object_position": null,
            "order": null,
            "overflow": null,
            "overflow_x": null,
            "overflow_y": null,
            "padding": null,
            "right": null,
            "top": null,
            "visibility": null,
            "width": null
          }
        },
        "ee2f7279e82e4484bcb0c5fb9a256c75": {
          "model_module": "@jupyter-widgets/base",
          "model_name": "LayoutModel",
          "model_module_version": "1.2.0",
          "state": {
            "_model_module": "@jupyter-widgets/base",
            "_model_module_version": "1.2.0",
            "_model_name": "LayoutModel",
            "_view_count": null,
            "_view_module": "@jupyter-widgets/base",
            "_view_module_version": "1.2.0",
            "_view_name": "LayoutView",
            "align_content": null,
            "align_items": null,
            "align_self": null,
            "border": null,
            "bottom": null,
            "display": null,
            "flex": null,
            "flex_flow": null,
            "grid_area": null,
            "grid_auto_columns": null,
            "grid_auto_flow": null,
            "grid_auto_rows": null,
            "grid_column": null,
            "grid_gap": null,
            "grid_row": null,
            "grid_template_areas": null,
            "grid_template_columns": null,
            "grid_template_rows": null,
            "height": null,
            "justify_content": null,
            "justify_items": null,
            "left": null,
            "margin": null,
            "max_height": null,
            "max_width": null,
            "min_height": null,
            "min_width": null,
            "object_fit": null,
            "object_position": null,
            "order": null,
            "overflow": null,
            "overflow_x": null,
            "overflow_y": null,
            "padding": null,
            "right": null,
            "top": null,
            "visibility": null,
            "width": null
          }
        },
        "bb07416cf7494777b7e9d12128351b84": {
          "model_module": "@jupyter-widgets/controls",
          "model_name": "DescriptionStyleModel",
          "model_module_version": "1.5.0",
          "state": {
            "_model_module": "@jupyter-widgets/controls",
            "_model_module_version": "1.5.0",
            "_model_name": "DescriptionStyleModel",
            "_view_count": null,
            "_view_module": "@jupyter-widgets/base",
            "_view_module_version": "1.2.0",
            "_view_name": "StyleView",
            "description_width": ""
          }
        },
        "8dbeed7a12be430fa219eddb5e65a850": {
          "model_module": "@jupyter-widgets/base",
          "model_name": "LayoutModel",
          "model_module_version": "1.2.0",
          "state": {
            "_model_module": "@jupyter-widgets/base",
            "_model_module_version": "1.2.0",
            "_model_name": "LayoutModel",
            "_view_count": null,
            "_view_module": "@jupyter-widgets/base",
            "_view_module_version": "1.2.0",
            "_view_name": "LayoutView",
            "align_content": null,
            "align_items": null,
            "align_self": null,
            "border": null,
            "bottom": null,
            "display": null,
            "flex": null,
            "flex_flow": null,
            "grid_area": null,
            "grid_auto_columns": null,
            "grid_auto_flow": null,
            "grid_auto_rows": null,
            "grid_column": null,
            "grid_gap": null,
            "grid_row": null,
            "grid_template_areas": null,
            "grid_template_columns": null,
            "grid_template_rows": null,
            "height": null,
            "justify_content": null,
            "justify_items": null,
            "left": null,
            "margin": null,
            "max_height": null,
            "max_width": null,
            "min_height": null,
            "min_width": null,
            "object_fit": null,
            "object_position": null,
            "order": null,
            "overflow": null,
            "overflow_x": null,
            "overflow_y": null,
            "padding": null,
            "right": null,
            "top": null,
            "visibility": null,
            "width": null
          }
        },
        "c7e954ccbf6d418393a0f844f6c0ed7a": {
          "model_module": "@jupyter-widgets/controls",
          "model_name": "ProgressStyleModel",
          "model_module_version": "1.5.0",
          "state": {
            "_model_module": "@jupyter-widgets/controls",
            "_model_module_version": "1.5.0",
            "_model_name": "ProgressStyleModel",
            "_view_count": null,
            "_view_module": "@jupyter-widgets/base",
            "_view_module_version": "1.2.0",
            "_view_name": "StyleView",
            "bar_color": null,
            "description_width": ""
          }
        },
        "53ce00d7fb104755abe534d3b09475f0": {
          "model_module": "@jupyter-widgets/base",
          "model_name": "LayoutModel",
          "model_module_version": "1.2.0",
          "state": {
            "_model_module": "@jupyter-widgets/base",
            "_model_module_version": "1.2.0",
            "_model_name": "LayoutModel",
            "_view_count": null,
            "_view_module": "@jupyter-widgets/base",
            "_view_module_version": "1.2.0",
            "_view_name": "LayoutView",
            "align_content": null,
            "align_items": null,
            "align_self": null,
            "border": null,
            "bottom": null,
            "display": null,
            "flex": null,
            "flex_flow": null,
            "grid_area": null,
            "grid_auto_columns": null,
            "grid_auto_flow": null,
            "grid_auto_rows": null,
            "grid_column": null,
            "grid_gap": null,
            "grid_row": null,
            "grid_template_areas": null,
            "grid_template_columns": null,
            "grid_template_rows": null,
            "height": null,
            "justify_content": null,
            "justify_items": null,
            "left": null,
            "margin": null,
            "max_height": null,
            "max_width": null,
            "min_height": null,
            "min_width": null,
            "object_fit": null,
            "object_position": null,
            "order": null,
            "overflow": null,
            "overflow_x": null,
            "overflow_y": null,
            "padding": null,
            "right": null,
            "top": null,
            "visibility": null,
            "width": null
          }
        },
        "df96e3b0dc1b460da167638c911a1811": {
          "model_module": "@jupyter-widgets/controls",
          "model_name": "DescriptionStyleModel",
          "model_module_version": "1.5.0",
          "state": {
            "_model_module": "@jupyter-widgets/controls",
            "_model_module_version": "1.5.0",
            "_model_name": "DescriptionStyleModel",
            "_view_count": null,
            "_view_module": "@jupyter-widgets/base",
            "_view_module_version": "1.2.0",
            "_view_name": "StyleView",
            "description_width": ""
          }
        },
        "34a46f84202d42e29c917ce28af75ba4": {
          "model_module": "@jupyter-widgets/controls",
          "model_name": "HBoxModel",
          "model_module_version": "1.5.0",
          "state": {
            "_dom_classes": [],
            "_model_module": "@jupyter-widgets/controls",
            "_model_module_version": "1.5.0",
            "_model_name": "HBoxModel",
            "_view_count": null,
            "_view_module": "@jupyter-widgets/controls",
            "_view_module_version": "1.5.0",
            "_view_name": "HBoxView",
            "box_style": "",
            "children": [
              "IPY_MODEL_fac63144c2ac47088fe4e4bcdb84053d",
              "IPY_MODEL_c9267c82f8c5403cb2873a5332d0ccf2",
              "IPY_MODEL_f0de2e773d9b4696a95703d306bfd93d"
            ],
            "layout": "IPY_MODEL_052509988d0a42fab5df3094dddc7650"
          }
        },
        "fac63144c2ac47088fe4e4bcdb84053d": {
          "model_module": "@jupyter-widgets/controls",
          "model_name": "HTMLModel",
          "model_module_version": "1.5.0",
          "state": {
            "_dom_classes": [],
            "_model_module": "@jupyter-widgets/controls",
            "_model_module_version": "1.5.0",
            "_model_name": "HTMLModel",
            "_view_count": null,
            "_view_module": "@jupyter-widgets/controls",
            "_view_module_version": "1.5.0",
            "_view_name": "HTMLView",
            "description": "",
            "description_tooltip": null,
            "layout": "IPY_MODEL_66e7d182a9094de3990a4aa9a296b7ec",
            "placeholder": "​",
            "style": "IPY_MODEL_ee3065c8b9c74a10bafdba671784f4fd",
            "value": "100%"
          }
        },
        "c9267c82f8c5403cb2873a5332d0ccf2": {
          "model_module": "@jupyter-widgets/controls",
          "model_name": "FloatProgressModel",
          "model_module_version": "1.5.0",
          "state": {
            "_dom_classes": [],
            "_model_module": "@jupyter-widgets/controls",
            "_model_module_version": "1.5.0",
            "_model_name": "FloatProgressModel",
            "_view_count": null,
            "_view_module": "@jupyter-widgets/controls",
            "_view_module_version": "1.5.0",
            "_view_name": "ProgressView",
            "bar_style": "success",
            "description": "",
            "description_tooltip": null,
            "layout": "IPY_MODEL_efe3f314894f4b8888094d9e0602f216",
            "max": 1000,
            "min": 0,
            "orientation": "horizontal",
            "style": "IPY_MODEL_0f75fc7b41bd49b3bbe6be82f41d462b",
            "value": 1000
          }
        },
        "f0de2e773d9b4696a95703d306bfd93d": {
          "model_module": "@jupyter-widgets/controls",
          "model_name": "HTMLModel",
          "model_module_version": "1.5.0",
          "state": {
            "_dom_classes": [],
            "_model_module": "@jupyter-widgets/controls",
            "_model_module_version": "1.5.0",
            "_model_name": "HTMLModel",
            "_view_count": null,
            "_view_module": "@jupyter-widgets/controls",
            "_view_module_version": "1.5.0",
            "_view_name": "HTMLView",
            "description": "",
            "description_tooltip": null,
            "layout": "IPY_MODEL_857e765290334ef4816b180346a4decf",
            "placeholder": "​",
            "style": "IPY_MODEL_3120dd4e31974caea8df180064c6d0a7",
            "value": " 1000/1000 [00:00&lt;00:00, 35517.56it/s]"
          }
        },
        "052509988d0a42fab5df3094dddc7650": {
          "model_module": "@jupyter-widgets/base",
          "model_name": "LayoutModel",
          "model_module_version": "1.2.0",
          "state": {
            "_model_module": "@jupyter-widgets/base",
            "_model_module_version": "1.2.0",
            "_model_name": "LayoutModel",
            "_view_count": null,
            "_view_module": "@jupyter-widgets/base",
            "_view_module_version": "1.2.0",
            "_view_name": "LayoutView",
            "align_content": null,
            "align_items": null,
            "align_self": null,
            "border": null,
            "bottom": null,
            "display": null,
            "flex": null,
            "flex_flow": null,
            "grid_area": null,
            "grid_auto_columns": null,
            "grid_auto_flow": null,
            "grid_auto_rows": null,
            "grid_column": null,
            "grid_gap": null,
            "grid_row": null,
            "grid_template_areas": null,
            "grid_template_columns": null,
            "grid_template_rows": null,
            "height": null,
            "justify_content": null,
            "justify_items": null,
            "left": null,
            "margin": null,
            "max_height": null,
            "max_width": null,
            "min_height": null,
            "min_width": null,
            "object_fit": null,
            "object_position": null,
            "order": null,
            "overflow": null,
            "overflow_x": null,
            "overflow_y": null,
            "padding": null,
            "right": null,
            "top": null,
            "visibility": null,
            "width": null
          }
        },
        "66e7d182a9094de3990a4aa9a296b7ec": {
          "model_module": "@jupyter-widgets/base",
          "model_name": "LayoutModel",
          "model_module_version": "1.2.0",
          "state": {
            "_model_module": "@jupyter-widgets/base",
            "_model_module_version": "1.2.0",
            "_model_name": "LayoutModel",
            "_view_count": null,
            "_view_module": "@jupyter-widgets/base",
            "_view_module_version": "1.2.0",
            "_view_name": "LayoutView",
            "align_content": null,
            "align_items": null,
            "align_self": null,
            "border": null,
            "bottom": null,
            "display": null,
            "flex": null,
            "flex_flow": null,
            "grid_area": null,
            "grid_auto_columns": null,
            "grid_auto_flow": null,
            "grid_auto_rows": null,
            "grid_column": null,
            "grid_gap": null,
            "grid_row": null,
            "grid_template_areas": null,
            "grid_template_columns": null,
            "grid_template_rows": null,
            "height": null,
            "justify_content": null,
            "justify_items": null,
            "left": null,
            "margin": null,
            "max_height": null,
            "max_width": null,
            "min_height": null,
            "min_width": null,
            "object_fit": null,
            "object_position": null,
            "order": null,
            "overflow": null,
            "overflow_x": null,
            "overflow_y": null,
            "padding": null,
            "right": null,
            "top": null,
            "visibility": null,
            "width": null
          }
        },
        "ee3065c8b9c74a10bafdba671784f4fd": {
          "model_module": "@jupyter-widgets/controls",
          "model_name": "DescriptionStyleModel",
          "model_module_version": "1.5.0",
          "state": {
            "_model_module": "@jupyter-widgets/controls",
            "_model_module_version": "1.5.0",
            "_model_name": "DescriptionStyleModel",
            "_view_count": null,
            "_view_module": "@jupyter-widgets/base",
            "_view_module_version": "1.2.0",
            "_view_name": "StyleView",
            "description_width": ""
          }
        },
        "efe3f314894f4b8888094d9e0602f216": {
          "model_module": "@jupyter-widgets/base",
          "model_name": "LayoutModel",
          "model_module_version": "1.2.0",
          "state": {
            "_model_module": "@jupyter-widgets/base",
            "_model_module_version": "1.2.0",
            "_model_name": "LayoutModel",
            "_view_count": null,
            "_view_module": "@jupyter-widgets/base",
            "_view_module_version": "1.2.0",
            "_view_name": "LayoutView",
            "align_content": null,
            "align_items": null,
            "align_self": null,
            "border": null,
            "bottom": null,
            "display": null,
            "flex": null,
            "flex_flow": null,
            "grid_area": null,
            "grid_auto_columns": null,
            "grid_auto_flow": null,
            "grid_auto_rows": null,
            "grid_column": null,
            "grid_gap": null,
            "grid_row": null,
            "grid_template_areas": null,
            "grid_template_columns": null,
            "grid_template_rows": null,
            "height": null,
            "justify_content": null,
            "justify_items": null,
            "left": null,
            "margin": null,
            "max_height": null,
            "max_width": null,
            "min_height": null,
            "min_width": null,
            "object_fit": null,
            "object_position": null,
            "order": null,
            "overflow": null,
            "overflow_x": null,
            "overflow_y": null,
            "padding": null,
            "right": null,
            "top": null,
            "visibility": null,
            "width": null
          }
        },
        "0f75fc7b41bd49b3bbe6be82f41d462b": {
          "model_module": "@jupyter-widgets/controls",
          "model_name": "ProgressStyleModel",
          "model_module_version": "1.5.0",
          "state": {
            "_model_module": "@jupyter-widgets/controls",
            "_model_module_version": "1.5.0",
            "_model_name": "ProgressStyleModel",
            "_view_count": null,
            "_view_module": "@jupyter-widgets/base",
            "_view_module_version": "1.2.0",
            "_view_name": "StyleView",
            "bar_color": null,
            "description_width": ""
          }
        },
        "857e765290334ef4816b180346a4decf": {
          "model_module": "@jupyter-widgets/base",
          "model_name": "LayoutModel",
          "model_module_version": "1.2.0",
          "state": {
            "_model_module": "@jupyter-widgets/base",
            "_model_module_version": "1.2.0",
            "_model_name": "LayoutModel",
            "_view_count": null,
            "_view_module": "@jupyter-widgets/base",
            "_view_module_version": "1.2.0",
            "_view_name": "LayoutView",
            "align_content": null,
            "align_items": null,
            "align_self": null,
            "border": null,
            "bottom": null,
            "display": null,
            "flex": null,
            "flex_flow": null,
            "grid_area": null,
            "grid_auto_columns": null,
            "grid_auto_flow": null,
            "grid_auto_rows": null,
            "grid_column": null,
            "grid_gap": null,
            "grid_row": null,
            "grid_template_areas": null,
            "grid_template_columns": null,
            "grid_template_rows": null,
            "height": null,
            "justify_content": null,
            "justify_items": null,
            "left": null,
            "margin": null,
            "max_height": null,
            "max_width": null,
            "min_height": null,
            "min_width": null,
            "object_fit": null,
            "object_position": null,
            "order": null,
            "overflow": null,
            "overflow_x": null,
            "overflow_y": null,
            "padding": null,
            "right": null,
            "top": null,
            "visibility": null,
            "width": null
          }
        },
        "3120dd4e31974caea8df180064c6d0a7": {
          "model_module": "@jupyter-widgets/controls",
          "model_name": "DescriptionStyleModel",
          "model_module_version": "1.5.0",
          "state": {
            "_model_module": "@jupyter-widgets/controls",
            "_model_module_version": "1.5.0",
            "_model_name": "DescriptionStyleModel",
            "_view_count": null,
            "_view_module": "@jupyter-widgets/base",
            "_view_module_version": "1.2.0",
            "_view_name": "StyleView",
            "description_width": ""
          }
        }
      }
    }
  },
  "nbformat": 4,
  "nbformat_minor": 0
}