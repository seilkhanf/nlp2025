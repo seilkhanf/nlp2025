{
  "cells": [
    {
      "cell_type": "markdown",
      "metadata": {
        "id": "UElctaLcpYp4"
      },
      "source": [
        "### Naive Bayes [Seminar]"
      ]
    },
    {
      "cell_type": "markdown",
      "metadata": {
        "id": "JKINtUT7pYp7"
      },
      "source": [
        "**Note:**\n",
        "\n",
        "> Please do not delete comments or lines of code.\n",
        "\n",
        "> Please show your solution by writing the calculation procedure.\n",
        "\n",
        "```"
      ]
    },
    {
      "cell_type": "markdown",
      "metadata": {
        "id": "t8ZFRa-PpYp9"
      },
      "source": [
        "1. At the lecture you studied the naive Bayesian algorithm, now it's time to do practice. The most common use of the naive Bayesov algorithm is the classification of messages as spam or not.\n",
        "\n",
        "You have a file `` \"sample_messages\" `` `with spam & non-spam (HAM) messages, download it to Pandas.Dataframe` `Data```` '."
      ]
    },
    {
      "cell_type": "code",
      "execution_count": 2,
      "metadata": {
        "colab": {
          "base_uri": "https://localhost:8080/"
        },
        "id": "_ljtVqiBpYp-",
        "outputId": "d0fa8e75-3ae4-46c1-8bef-8635aba94f33"
      },
      "outputs": [
        {
          "output_type": "execute_result",
          "data": {
            "text/plain": [
              "['.config', 'sample_messages.txt', 'sample_data']"
            ]
          },
          "metadata": {},
          "execution_count": 2
        }
      ],
      "source": [
        "import os\n",
        "os.listdir()"
      ]
    },
    {
      "cell_type": "code",
      "execution_count": 3,
      "metadata": {
        "colab": {
          "base_uri": "https://localhost:8080/",
          "height": 206
        },
        "id": "deP3nT-RpYqA",
        "outputId": "340ca34d-dbd5-498a-95f7-dfbcbcfb5925"
      },
      "outputs": [
        {
          "output_type": "execute_result",
          "data": {
            "text/plain": [
              "  status                                            message\n",
              "0    ham  Go until jurong point, crazy.. Available only ...\n",
              "1    ham                      Ok lar... Joking wif u oni...\n",
              "2   spam  Free entry in 2 a wkly comp to win FA Cup fina...\n",
              "3    ham  U dun say so early hor... U c already then say...\n",
              "4    ham  Nah I don't think he goes to usf, he lives aro..."
            ],
            "text/html": [
              "\n",
              "  <div id=\"df-53d77e19-331c-4017-9f56-1b6c13510882\" class=\"colab-df-container\">\n",
              "    <div>\n",
              "<style scoped>\n",
              "    .dataframe tbody tr th:only-of-type {\n",
              "        vertical-align: middle;\n",
              "    }\n",
              "\n",
              "    .dataframe tbody tr th {\n",
              "        vertical-align: top;\n",
              "    }\n",
              "\n",
              "    .dataframe thead th {\n",
              "        text-align: right;\n",
              "    }\n",
              "</style>\n",
              "<table border=\"1\" class=\"dataframe\">\n",
              "  <thead>\n",
              "    <tr style=\"text-align: right;\">\n",
              "      <th></th>\n",
              "      <th>status</th>\n",
              "      <th>message</th>\n",
              "    </tr>\n",
              "  </thead>\n",
              "  <tbody>\n",
              "    <tr>\n",
              "      <th>0</th>\n",
              "      <td>ham</td>\n",
              "      <td>Go until jurong point, crazy.. Available only ...</td>\n",
              "    </tr>\n",
              "    <tr>\n",
              "      <th>1</th>\n",
              "      <td>ham</td>\n",
              "      <td>Ok lar... Joking wif u oni...</td>\n",
              "    </tr>\n",
              "    <tr>\n",
              "      <th>2</th>\n",
              "      <td>spam</td>\n",
              "      <td>Free entry in 2 a wkly comp to win FA Cup fina...</td>\n",
              "    </tr>\n",
              "    <tr>\n",
              "      <th>3</th>\n",
              "      <td>ham</td>\n",
              "      <td>U dun say so early hor... U c already then say...</td>\n",
              "    </tr>\n",
              "    <tr>\n",
              "      <th>4</th>\n",
              "      <td>ham</td>\n",
              "      <td>Nah I don't think he goes to usf, he lives aro...</td>\n",
              "    </tr>\n",
              "  </tbody>\n",
              "</table>\n",
              "</div>\n",
              "    <div class=\"colab-df-buttons\">\n",
              "\n",
              "  <div class=\"colab-df-container\">\n",
              "    <button class=\"colab-df-convert\" onclick=\"convertToInteractive('df-53d77e19-331c-4017-9f56-1b6c13510882')\"\n",
              "            title=\"Convert this dataframe to an interactive table.\"\n",
              "            style=\"display:none;\">\n",
              "\n",
              "  <svg xmlns=\"http://www.w3.org/2000/svg\" height=\"24px\" viewBox=\"0 -960 960 960\">\n",
              "    <path d=\"M120-120v-720h720v720H120Zm60-500h600v-160H180v160Zm220 220h160v-160H400v160Zm0 220h160v-160H400v160ZM180-400h160v-160H180v160Zm440 0h160v-160H620v160ZM180-180h160v-160H180v160Zm440 0h160v-160H620v160Z\"/>\n",
              "  </svg>\n",
              "    </button>\n",
              "\n",
              "  <style>\n",
              "    .colab-df-container {\n",
              "      display:flex;\n",
              "      gap: 12px;\n",
              "    }\n",
              "\n",
              "    .colab-df-convert {\n",
              "      background-color: #E8F0FE;\n",
              "      border: none;\n",
              "      border-radius: 50%;\n",
              "      cursor: pointer;\n",
              "      display: none;\n",
              "      fill: #1967D2;\n",
              "      height: 32px;\n",
              "      padding: 0 0 0 0;\n",
              "      width: 32px;\n",
              "    }\n",
              "\n",
              "    .colab-df-convert:hover {\n",
              "      background-color: #E2EBFA;\n",
              "      box-shadow: 0px 1px 2px rgba(60, 64, 67, 0.3), 0px 1px 3px 1px rgba(60, 64, 67, 0.15);\n",
              "      fill: #174EA6;\n",
              "    }\n",
              "\n",
              "    .colab-df-buttons div {\n",
              "      margin-bottom: 4px;\n",
              "    }\n",
              "\n",
              "    [theme=dark] .colab-df-convert {\n",
              "      background-color: #3B4455;\n",
              "      fill: #D2E3FC;\n",
              "    }\n",
              "\n",
              "    [theme=dark] .colab-df-convert:hover {\n",
              "      background-color: #434B5C;\n",
              "      box-shadow: 0px 1px 3px 1px rgba(0, 0, 0, 0.15);\n",
              "      filter: drop-shadow(0px 1px 2px rgba(0, 0, 0, 0.3));\n",
              "      fill: #FFFFFF;\n",
              "    }\n",
              "  </style>\n",
              "\n",
              "    <script>\n",
              "      const buttonEl =\n",
              "        document.querySelector('#df-53d77e19-331c-4017-9f56-1b6c13510882 button.colab-df-convert');\n",
              "      buttonEl.style.display =\n",
              "        google.colab.kernel.accessAllowed ? 'block' : 'none';\n",
              "\n",
              "      async function convertToInteractive(key) {\n",
              "        const element = document.querySelector('#df-53d77e19-331c-4017-9f56-1b6c13510882');\n",
              "        const dataTable =\n",
              "          await google.colab.kernel.invokeFunction('convertToInteractive',\n",
              "                                                    [key], {});\n",
              "        if (!dataTable) return;\n",
              "\n",
              "        const docLinkHtml = 'Like what you see? Visit the ' +\n",
              "          '<a target=\"_blank\" href=https://colab.research.google.com/notebooks/data_table.ipynb>data table notebook</a>'\n",
              "          + ' to learn more about interactive tables.';\n",
              "        element.innerHTML = '';\n",
              "        dataTable['output_type'] = 'display_data';\n",
              "        await google.colab.output.renderOutput(dataTable, element);\n",
              "        const docLink = document.createElement('div');\n",
              "        docLink.innerHTML = docLinkHtml;\n",
              "        element.appendChild(docLink);\n",
              "      }\n",
              "    </script>\n",
              "  </div>\n",
              "\n",
              "\n",
              "    <div id=\"df-55cc2adb-90ea-40b3-8488-dcf897d0d127\">\n",
              "      <button class=\"colab-df-quickchart\" onclick=\"quickchart('df-55cc2adb-90ea-40b3-8488-dcf897d0d127')\"\n",
              "                title=\"Suggest charts\"\n",
              "                style=\"display:none;\">\n",
              "\n",
              "<svg xmlns=\"http://www.w3.org/2000/svg\" height=\"24px\"viewBox=\"0 0 24 24\"\n",
              "     width=\"24px\">\n",
              "    <g>\n",
              "        <path d=\"M19 3H5c-1.1 0-2 .9-2 2v14c0 1.1.9 2 2 2h14c1.1 0 2-.9 2-2V5c0-1.1-.9-2-2-2zM9 17H7v-7h2v7zm4 0h-2V7h2v10zm4 0h-2v-4h2v4z\"/>\n",
              "    </g>\n",
              "</svg>\n",
              "      </button>\n",
              "\n",
              "<style>\n",
              "  .colab-df-quickchart {\n",
              "      --bg-color: #E8F0FE;\n",
              "      --fill-color: #1967D2;\n",
              "      --hover-bg-color: #E2EBFA;\n",
              "      --hover-fill-color: #174EA6;\n",
              "      --disabled-fill-color: #AAA;\n",
              "      --disabled-bg-color: #DDD;\n",
              "  }\n",
              "\n",
              "  [theme=dark] .colab-df-quickchart {\n",
              "      --bg-color: #3B4455;\n",
              "      --fill-color: #D2E3FC;\n",
              "      --hover-bg-color: #434B5C;\n",
              "      --hover-fill-color: #FFFFFF;\n",
              "      --disabled-bg-color: #3B4455;\n",
              "      --disabled-fill-color: #666;\n",
              "  }\n",
              "\n",
              "  .colab-df-quickchart {\n",
              "    background-color: var(--bg-color);\n",
              "    border: none;\n",
              "    border-radius: 50%;\n",
              "    cursor: pointer;\n",
              "    display: none;\n",
              "    fill: var(--fill-color);\n",
              "    height: 32px;\n",
              "    padding: 0;\n",
              "    width: 32px;\n",
              "  }\n",
              "\n",
              "  .colab-df-quickchart:hover {\n",
              "    background-color: var(--hover-bg-color);\n",
              "    box-shadow: 0 1px 2px rgba(60, 64, 67, 0.3), 0 1px 3px 1px rgba(60, 64, 67, 0.15);\n",
              "    fill: var(--button-hover-fill-color);\n",
              "  }\n",
              "\n",
              "  .colab-df-quickchart-complete:disabled,\n",
              "  .colab-df-quickchart-complete:disabled:hover {\n",
              "    background-color: var(--disabled-bg-color);\n",
              "    fill: var(--disabled-fill-color);\n",
              "    box-shadow: none;\n",
              "  }\n",
              "\n",
              "  .colab-df-spinner {\n",
              "    border: 2px solid var(--fill-color);\n",
              "    border-color: transparent;\n",
              "    border-bottom-color: var(--fill-color);\n",
              "    animation:\n",
              "      spin 1s steps(1) infinite;\n",
              "  }\n",
              "\n",
              "  @keyframes spin {\n",
              "    0% {\n",
              "      border-color: transparent;\n",
              "      border-bottom-color: var(--fill-color);\n",
              "      border-left-color: var(--fill-color);\n",
              "    }\n",
              "    20% {\n",
              "      border-color: transparent;\n",
              "      border-left-color: var(--fill-color);\n",
              "      border-top-color: var(--fill-color);\n",
              "    }\n",
              "    30% {\n",
              "      border-color: transparent;\n",
              "      border-left-color: var(--fill-color);\n",
              "      border-top-color: var(--fill-color);\n",
              "      border-right-color: var(--fill-color);\n",
              "    }\n",
              "    40% {\n",
              "      border-color: transparent;\n",
              "      border-right-color: var(--fill-color);\n",
              "      border-top-color: var(--fill-color);\n",
              "    }\n",
              "    60% {\n",
              "      border-color: transparent;\n",
              "      border-right-color: var(--fill-color);\n",
              "    }\n",
              "    80% {\n",
              "      border-color: transparent;\n",
              "      border-right-color: var(--fill-color);\n",
              "      border-bottom-color: var(--fill-color);\n",
              "    }\n",
              "    90% {\n",
              "      border-color: transparent;\n",
              "      border-bottom-color: var(--fill-color);\n",
              "    }\n",
              "  }\n",
              "</style>\n",
              "\n",
              "      <script>\n",
              "        async function quickchart(key) {\n",
              "          const quickchartButtonEl =\n",
              "            document.querySelector('#' + key + ' button');\n",
              "          quickchartButtonEl.disabled = true;  // To prevent multiple clicks.\n",
              "          quickchartButtonEl.classList.add('colab-df-spinner');\n",
              "          try {\n",
              "            const charts = await google.colab.kernel.invokeFunction(\n",
              "                'suggestCharts', [key], {});\n",
              "          } catch (error) {\n",
              "            console.error('Error during call to suggestCharts:', error);\n",
              "          }\n",
              "          quickchartButtonEl.classList.remove('colab-df-spinner');\n",
              "          quickchartButtonEl.classList.add('colab-df-quickchart-complete');\n",
              "        }\n",
              "        (() => {\n",
              "          let quickchartButtonEl =\n",
              "            document.querySelector('#df-55cc2adb-90ea-40b3-8488-dcf897d0d127 button');\n",
              "          quickchartButtonEl.style.display =\n",
              "            google.colab.kernel.accessAllowed ? 'block' : 'none';\n",
              "        })();\n",
              "      </script>\n",
              "    </div>\n",
              "\n",
              "    </div>\n",
              "  </div>\n"
            ],
            "application/vnd.google.colaboratory.intrinsic+json": {
              "type": "dataframe",
              "variable_name": "data",
              "summary": "{\n  \"name\": \"data\",\n  \"rows\": 20,\n  \"fields\": [\n    {\n      \"column\": \"status\",\n      \"properties\": {\n        \"dtype\": \"category\",\n        \"num_unique_values\": 2,\n        \"samples\": [\n          \"spam\",\n          \"ham\"\n        ],\n        \"semantic_type\": \"\",\n        \"description\": \"\"\n      }\n    },\n    {\n      \"column\": \"message\",\n      \"properties\": {\n        \"dtype\": \"string\",\n        \"num_unique_values\": 20,\n        \"samples\": [\n          \"Go until jurong point, crazy.. Available only in bugis n great world la e buffet... Cine there got amore wat...\",\n          \"Eh u remember how 2 spell his name... Yes i did. He v naughty make until i v wet.\"\n        ],\n        \"semantic_type\": \"\",\n        \"description\": \"\"\n      }\n    }\n  ]\n}"
            }
          },
          "metadata": {},
          "execution_count": 3
        }
      ],
      "source": [
        "#Начало вашего кода\n",
        "\n",
        "import pandas as pd\n",
        "data = pd.read_table('sample_messages.txt', names = ['status', 'message'])\n",
        "\n",
        "#Конец вашего кода\n",
        "\n",
        "data.head()"
      ]
    },
    {
      "cell_type": "markdown",
      "metadata": {
        "id": "SOoLJ8SdpYqB"
      },
      "source": [
        "### Expected results:\n",
        "\n",
        "![image.png](attachment:image.png)"
      ]
    },
    {
      "cell_type": "markdown",
      "metadata": {
        "id": "NUdesJUCpYqC"
      },
      "source": [
        "2. Perform a research analysis of the data `` Data```` ', and answer the following questions:\n",
        "\n",
        "* How many messages are there in the data? Assign the result of the variable `` all_Messages````.\n",
        "\n",
        "*How much is ** spam ** messages in the data? Assign the result of a variable `` spam messages````.\n",
        "\n",
        "*How much is ** HAM ** messages in the data? Assign the result of the variable `` HAM_MESSAGES``` '.\n",
        "\n",
        "*What is the probability that the message will be ** spam **? Assign the result of the variable `` p_spam``` '.\n",
        "\n",
        "*What is the likelihood that the message will be ** HAM **? Assign the result of the variable `` P_HAM``` '."
      ]
    },
    {
      "cell_type": "code",
      "execution_count": 4,
      "metadata": {
        "id": "S7idnfP8pYqD"
      },
      "outputs": [],
      "source": [
        "#Начало вашего кода\n",
        "all_messages = data['message'].count()\n",
        "spam_messages = data[data['status'] == 'spam']['status'].count()\n",
        "ham_messages = data[data['status'] == 'ham']['status'].count()\n",
        "p_spam = spam_messages / all_messages\n",
        "p_ham = ham_messages / all_messages\n",
        "#Конец вашего кода"
      ]
    },
    {
      "cell_type": "code",
      "execution_count": 5,
      "metadata": {
        "colab": {
          "base_uri": "https://localhost:8080/"
        },
        "id": "krfvDgY0pYqE",
        "outputId": "abce782f-3812-4ed3-c41a-6b739f48b04f"
      },
      "outputs": [
        {
          "output_type": "stream",
          "name": "stdout",
          "text": [
            "всего сообщений: 20\n",
            "всего spam сообщений: 8\n",
            "всего ham сообщений: 12\n",
            "вероятность того, что сообщение будет spam: 40.00%\n",
            "вероятность того, что сообщение будет ham: 60.00%\n"
          ]
        }
      ],
      "source": [
        "print(f\"всего сообщений: {all_messages}\")\n",
        "print(f\"всего spam сообщений: {spam_messages}\")\n",
        "print(f\"всего ham сообщений: {ham_messages}\")\n",
        "print(f\"вероятность того, что сообщение будет spam: {p_spam*100:.2f}%\")\n",
        "print(f\"вероятность того, что сообщение будет ham: {p_ham*100:.2f}%\")"
      ]
    },
    {
      "cell_type": "markdown",
      "metadata": {
        "id": "a5uTYB2IpYqE"
      },
      "source": [
        "### Expected results:\n",
        "\n",
        "```\n",
        "всего сообщений: 20\n",
        "всего spam сообщений: 8\n",
        "всего ham сообщений: 12\n",
        "вероятность того, что сообщение будет spam: 40.00%\n",
        "вероятность того, что сообщение будет ham: 60.00%\n",
        "```"
      ]
    },
    {
      "cell_type": "markdown",
      "metadata": {
        "id": "7n3y-OOBpYqF"
      },
      "source": [
        "\n",
        "\n",
        "```\n",
        "# Выбран кодовый формат\n",
        "```\n",
        "\n",
        "3. You may encounter the problem that messages have a different format and contain punctuation marks (which we can ignore). You must clean the data in this task."
      ]
    },
    {
      "cell_type": "code",
      "execution_count": 7,
      "metadata": {
        "colab": {
          "base_uri": "https://localhost:8080/"
        },
        "id": "7-E5K4_fpYqF",
        "outputId": "4205ad91-94a8-47e4-cd96-c26c1896d94c"
      },
      "outputs": [
        {
          "output_type": "stream",
          "name": "stdout",
          "text": [
            "0\tgo until jurong point crazy available only in bugis n great world la e buffet cine there got amore wat\n",
            "1\tok lar joking wif u oni\n",
            "2\tfree entry in 2 a wkly comp to win fa cup final tkts 21st may 2005 text fa to 87121 to receive entry question std txt rate t c's apply 08452810075over18's\n",
            "3\tu dun say so early hor u c already then say\n",
            "4\tnah i don't think he goes to usf he lives around here though\n",
            "5\tfreemsg hey there darling it's been 3 week's now and no word back i'd like some fun you up for it still tb ok xxx std chgs to send 1 50 to rcv\n",
            "6\teven my brother is not like to speak with me they treat me like aids patent\n",
            "7\tas per your request 'melle melle oru minnaminunginte nurungu vettam ' has been set as your callertune for all callers press 9 to copy your friends callertune\n",
            "8\twinner as a valued network customer you have been selected to receivea 900 prize reward to claim call 09061701461 claim code kl341 valid 12 hours only\n",
            "9\thad your mobile 11 months or more u r entitled to update to the latest colour mobiles with camera for free call the mobile update co free on 08002986030\n",
            "10\ti'm gonna be home soon and i don't want to talk about this stuff anymore tonight k i've cried enough today\n",
            "11\tsix chances to win cash from 100 to 20 000 pounds txt csh11 and send to 87575 cost 150p day 6days 16 tsandcs apply reply hl 4 info\n",
            "12\turgent you have won a 1 week free membership in our 100 000 prize jackpot txt the word claim to no 81010 t c www dbuk net lccltd pobox 4403ldnw1a7rw18\n",
            "13\ti've been searching for the right words to thank you for this breather i promise i wont take your help for granted and will fulfil my promise you have been wonderful and a blessing at all times\n",
            "14\ti have a date on sunday with will\n",
            "15\txxxmobilemovieclub to use your credit click the wap link in the next txt message or click here http wap xxxmobilemovieclub com n qjkgighjjgcbl\n",
            "16\toh k i'm watching here\n",
            "17\teh u remember how 2 spell his name yes i did he v naughty make until i v wet\n",
            "18\tfine if that s the way u feel that s the way its gota b\n",
            "19\tengland v macedonia dont miss the goals team news txt ur national team to 87077 eg england to 87077 try wales scotland 4txt 1 20 poboxox36504w45wq 16\n"
          ]
        }
      ],
      "source": [
        "import re\n",
        "\n",
        "# Начало вашего кода\n",
        "clean_data = data.copy()\n",
        "\n",
        "def clean_text(text):\n",
        "    text = text.lower()\n",
        "    text = re.sub(r'[^a-z0-9\\s\\']', ' ', text)\n",
        "    text = re.sub(r'\\s+', ' ', text).strip()\n",
        "    return text\n",
        "\n",
        "clean_data['message'] = clean_data['message'].apply(clean_text)\n",
        "\n",
        "# Конец вашего кода\n",
        "for i in range(len(clean_data)):\n",
        "    print(f\"{i}\\t{clean_data['message'][i]}\")"
      ]
    },
    {
      "cell_type": "markdown",
      "metadata": {
        "id": "Jb_0gDjApYqG"
      },
      "source": [
        "### Expected results:\n",
        "\n",
        "```\n",
        "0\tgo until jurong point  crazy   available only in bugis n great world la e buffet    cine there got amore wat\n",
        "1\tok lar    joking wif u oni\n",
        "2\tfree entry in 2 a wkly comp to win fa cup final tkts 21st may 2005  text fa to 87121 to receive entry question std txt rate t c s apply 08452810075over18 s\n",
        "3\tu dun say so early hor    u c already then say\n",
        "4\tnah i don t think he goes to usf  he lives around here though\n",
        "5\tfreemsg hey there darling it s been 3 week s now and no word back  i d like some fun you up for it still  tb ok  xxx std chgs to send   1 50 to rcv\n",
        "6\teven my brother is not like to speak with me  they treat me like aids patent\n",
        "7\tas per your request  melle melle  oru minnaminunginte nurungu vettam   has been set as your callertune for all callers  press  9 to copy your friends callertune\n",
        "8\twinner   as a valued network customer you have been selected to receivea  900 prize reward  to claim call 09061701461  claim code kl341  valid 12 hours only\n",
        "9\thad your mobile 11 months or more  u r entitled to update to the latest colour mobiles with camera for free  call the mobile update co free on 08002986030\n",
        "10\ti m gonna be home soon and i don t want to talk about this stuff anymore tonight  k  i ve cried enough today\n",
        "11\tsix chances to win cash  from 100 to 20 000 pounds txt  csh11 and send to 87575  cost 150p day  6days  16  tsandcs apply reply hl 4 info\n",
        "12\turgent  you have won a 1 week free membership in our  100 000 prize jackpot  txt the word  claim to no  81010 t c www dbuk net lccltd pobox 4403ldnw1a7rw18\n",
        "13\ti ve been searching for the right words to thank you for this breather  i promise i wont take your help for granted and will fulfil my promise  you have been wonderful and a blessing at all times\n",
        "14\ti have a date on sunday with will\n",
        "15\txxxmobilemovieclub  to use your credit  click the wap link in the next txt message or click here   http   wap  xxxmobilemovieclub com n qjkgighjjgcbl\n",
        "16\toh k   i m watching here\n",
        "17\teh u remember how 2 spell his name    yes i did  he v naughty make until i v wet\n",
        "18\tfine if that s the way u feel  that s the way its gota b\n",
        "19\tengland v macedonia   dont miss the goals team news  txt ur national team to 87077 eg england to 87077 try wales  scotland 4txt ú1 20 poboxox36504w45wq 16\n",
        "```"
      ]
    },
    {
      "cell_type": "markdown",
      "metadata": {
        "id": "5GOhRdMOpYqG"
      },
      "source": [
        "4. As can be seen from the above text, there are many consistent spaces between words, please implement the function `` delete_whitespaces () ``, which will replace all consistent gaps with one gap."
      ]
    },
    {
      "cell_type": "code",
      "execution_count": 8,
      "metadata": {
        "colab": {
          "base_uri": "https://localhost:8080/"
        },
        "id": "XWUtApxNpYqG",
        "outputId": "c5dec6e2-3767-45ea-8879-359729f29345"
      },
      "outputs": [
        {
          "output_type": "stream",
          "name": "stdout",
          "text": [
            "0\tgo until jurong point crazy available only in bugis n great world la e buffet cine there got amore wat\n",
            "1\tok lar joking wif u oni\n",
            "2\tfree entry in 2 a wkly comp to win fa cup final tkts 21st may 2005 text fa to 87121 to receive entry question std txt rate t c's apply 08452810075over18's\n",
            "3\tu dun say so early hor u c already then say\n",
            "4\tnah i don't think he goes to usf he lives around here though\n",
            "5\tfreemsg hey there darling it's been 3 week's now and no word back i'd like some fun you up for it still tb ok xxx std chgs to send 1 50 to rcv\n",
            "6\teven my brother is not like to speak with me they treat me like aids patent\n",
            "7\tas per your request 'melle melle oru minnaminunginte nurungu vettam ' has been set as your callertune for all callers press 9 to copy your friends callertune\n",
            "8\twinner as a valued network customer you have been selected to receivea 900 prize reward to claim call 09061701461 claim code kl341 valid 12 hours only\n",
            "9\thad your mobile 11 months or more u r entitled to update to the latest colour mobiles with camera for free call the mobile update co free on 08002986030\n",
            "10\ti'm gonna be home soon and i don't want to talk about this stuff anymore tonight k i've cried enough today\n",
            "11\tsix chances to win cash from 100 to 20 000 pounds txt csh11 and send to 87575 cost 150p day 6days 16 tsandcs apply reply hl 4 info\n",
            "12\turgent you have won a 1 week free membership in our 100 000 prize jackpot txt the word claim to no 81010 t c www dbuk net lccltd pobox 4403ldnw1a7rw18\n",
            "13\ti've been searching for the right words to thank you for this breather i promise i wont take your help for granted and will fulfil my promise you have been wonderful and a blessing at all times\n",
            "14\ti have a date on sunday with will\n",
            "15\txxxmobilemovieclub to use your credit click the wap link in the next txt message or click here http wap xxxmobilemovieclub com n qjkgighjjgcbl\n",
            "16\toh k i'm watching here\n",
            "17\teh u remember how 2 spell his name yes i did he v naughty make until i v wet\n",
            "18\tfine if that s the way u feel that s the way its gota b\n",
            "19\tengland v macedonia dont miss the goals team news txt ur national team to 87077 eg england to 87077 try wales scotland 4txt 1 20 poboxox36504w45wq 16\n"
          ]
        }
      ],
      "source": [
        "def delete_whitespaces(x):\n",
        "    # Начало вашего кода\n",
        "    return ' '.join(x.split())\n",
        "    # Конец вашего кода\n",
        "\n",
        "clean_data[\"message\"] = clean_data[\"message\"].apply(delete_whitespaces)\n",
        "\n",
        "for i in range(len(clean_data)):\n",
        "    print(f\"{i}\\t{clean_data['message'][i]}\")"
      ]
    },
    {
      "cell_type": "markdown",
      "metadata": {
        "id": "W5nlBsmjpYqG"
      },
      "source": [
        "### Expected results:\n",
        "\n",
        "```\n",
        "0\tgo until jurong point crazy available only in bugis n great world la e buffet cine there got amore wat\n",
        "1\tok lar joking wif u oni\n",
        "2\tfree entry in 2 a wkly comp to win fa cup final tkts 21st may 2005 text fa to 87121 to receive entry question std txt rate t c s apply 08452810075over18 s\n",
        "3\tu dun say so early hor u c already then say\n",
        "4\tnah i don t think he goes to usf he lives around here though\n",
        "5\tfreemsg hey there darling it s been 3 week s now and no word back i d like some fun you up for it still tb ok xxx std chgs to send 1 50 to rcv\n",
        "6\teven my brother is not like to speak with me they treat me like aids patent\n",
        "7\tas per your request melle melle oru minnaminunginte nurungu vettam has been set as your callertune for all callers press 9 to copy your friends callertune\n",
        "8\twinner as a valued network customer you have been selected to receivea 900 prize reward to claim call 09061701461 claim code kl341 valid 12 hours only\n",
        "9\thad your mobile 11 months or more u r entitled to update to the latest colour mobiles with camera for free call the mobile update co free on 08002986030\n",
        "10\ti m gonna be home soon and i don t want to talk about this stuff anymore tonight k i ve cried enough today\n",
        "11\tsix chances to win cash from 100 to 20 000 pounds txt csh11 and send to 87575 cost 150p day 6days 16 tsandcs apply reply hl 4 info\n",
        "12\turgent you have won a 1 week free membership in our 100 000 prize jackpot txt the word claim to no 81010 t c www dbuk net lccltd pobox 4403ldnw1a7rw18\n",
        "13\ti ve been searching for the right words to thank you for this breather i promise i wont take your help for granted and will fulfil my promise you have been wonderful and a blessing at all times\n",
        "14\ti have a date on sunday with will\n",
        "15\txxxmobilemovieclub to use your credit click the wap link in the next txt message or click here http wap xxxmobilemovieclub com n qjkgighjjgcbl\n",
        "16\toh k i m watching here\n",
        "17\teh u remember how 2 spell his name yes i did he v naughty make until i v wet\n",
        "18\tfine if that s the way u feel that s the way its gota b\n",
        "19\tengland v macedonia dont miss the goals team news txt ur national team to 87077 eg england to 87077 try wales scotland 4txt ú1 20 poboxox36504w45wq 16\n",
        "```"
      ]
    },
    {
      "cell_type": "markdown",
      "metadata": {
        "id": "oVGIBcqXpYqG"
      },
      "source": [
        "5. Implement the function `` get_vocab (Data, Condition = None) `` `, which accepts one positional argument` `DATA``` (PANDAS.DATAFRAME) and one nominal argument` `` control````. This function should return the dictionary of words and their quantities in `` `Data`` 'relative to the argument` `` condition````.\n",
        "\n",
        "Example:\n",
        "\n",
        "* When `` `Condition =\" HAM \"` ``, the function should return the dictionary of words and their number only in `` `spam`` 'messages.\n",
        "\n",
        "* When `` `Condition =\" Spam \"` ``, the function should return the dictionary of words and their number only in `` HAM`` 'messages.\n",
        "\n",
        "* When `` `Condition = None``` ', the function should return the dictionary of words and their number only in all messages."
      ]
    },
    {
      "cell_type": "code",
      "execution_count": 9,
      "metadata": {
        "colab": {
          "base_uri": "https://localhost:8080/"
        },
        "id": "jHS4h2orpYqG",
        "outputId": "bda57083-dd91-4634-9cad-7ed1c97761a5"
      },
      "outputs": [
        {
          "output_type": "stream",
          "name": "stdout",
          "text": [
            "{'go': 1, 'until': 2, 'jurong': 1, 'point': 1, 'crazy': 1, 'available': 1, 'only': 2, 'in': 4, 'bugis': 1, 'n': 2, 'great': 1, 'world': 1, 'la': 1, 'e': 1, 'buffet': 1, 'cine': 1, 'there': 2, 'got': 1, 'amore': 1, 'wat': 1, 'ok': 2, 'lar': 1, 'joking': 1, 'wif': 1, 'u': 6, 'oni': 1, 'free': 4, 'entry': 2, '2': 2, 'a': 5, 'wkly': 1, 'comp': 1, 'to': 21, 'win': 2, 'fa': 2, 'cup': 1, 'final': 1, 'tkts': 1, '21st': 1, 'may': 1, '2005': 1, 'text': 1, '87121': 1, 'receive': 1, 'question': 1, 'std': 2, 'txt': 5, 'rate': 1, 't': 2, \"c's\": 1, 'apply': 2, \"08452810075over18's\": 1, 'dun': 1, 'say': 2, 'so': 1, 'early': 1, 'hor': 1, 'c': 2, 'already': 1, 'then': 1, 'nah': 1, 'i': 7, \"don't\": 2, 'think': 1, 'he': 3, 'goes': 1, 'usf': 1, 'lives': 1, 'around': 1, 'here': 3, 'though': 1, 'freemsg': 1, 'hey': 1, 'darling': 1, \"it's\": 1, 'been': 5, '3': 1, \"week's\": 1, 'now': 1, 'and': 5, 'no': 2, 'word': 2, 'back': 1, \"i'd\": 1, 'like': 3, 'some': 1, 'fun': 1, 'you': 5, 'up': 1, 'for': 6, 'it': 1, 'still': 1, 'tb': 1, 'xxx': 1, 'chgs': 1, 'send': 2, '1': 3, '50': 1, 'rcv': 1, 'even': 1, 'my': 2, 'brother': 1, 'is': 1, 'not': 1, 'speak': 1, 'with': 3, 'me': 2, 'they': 1, 'treat': 1, 'aids': 1, 'patent': 1, 'as': 3, 'per': 1, 'your': 6, 'request': 1, \"'melle\": 1, 'melle': 1, 'oru': 1, 'minnaminunginte': 1, 'nurungu': 1, 'vettam': 1, \"'\": 1, 'has': 1, 'set': 1, 'callertune': 2, 'all': 2, 'callers': 1, 'press': 1, '9': 1, 'copy': 1, 'friends': 1, 'winner': 1, 'valued': 1, 'network': 1, 'customer': 1, 'have': 4, 'selected': 1, 'receivea': 1, '900': 1, 'prize': 2, 'reward': 1, 'claim': 3, 'call': 2, '09061701461': 1, 'code': 1, 'kl341': 1, 'valid': 1, '12': 1, 'hours': 1, 'had': 1, 'mobile': 2, '11': 1, 'months': 1, 'or': 2, 'more': 1, 'r': 1, 'entitled': 1, 'update': 2, 'the': 9, 'latest': 1, 'colour': 1, 'mobiles': 1, 'camera': 1, 'co': 1, 'on': 2, '08002986030': 1, \"i'm\": 2, 'gonna': 1, 'be': 1, 'home': 1, 'soon': 1, 'want': 1, 'talk': 1, 'about': 1, 'this': 2, 'stuff': 1, 'anymore': 1, 'tonight': 1, 'k': 2, \"i've\": 2, 'cried': 1, 'enough': 1, 'today': 1, 'six': 1, 'chances': 1, 'cash': 1, 'from': 1, '100': 2, '20': 2, '000': 2, 'pounds': 1, 'csh11': 1, '87575': 1, 'cost': 1, '150p': 1, 'day': 1, '6days': 1, '16': 2, 'tsandcs': 1, 'reply': 1, 'hl': 1, '4': 1, 'info': 1, 'urgent': 1, 'won': 1, 'week': 1, 'membership': 1, 'our': 1, 'jackpot': 1, '81010': 1, 'www': 1, 'dbuk': 1, 'net': 1, 'lccltd': 1, 'pobox': 1, '4403ldnw1a7rw18': 1, 'searching': 1, 'right': 1, 'words': 1, 'thank': 1, 'breather': 1, 'promise': 2, 'wont': 1, 'take': 1, 'help': 1, 'granted': 1, 'will': 2, 'fulfil': 1, 'wonderful': 1, 'blessing': 1, 'at': 1, 'times': 1, 'date': 1, 'sunday': 1, 'xxxmobilemovieclub': 2, 'use': 1, 'credit': 1, 'click': 2, 'wap': 2, 'link': 1, 'next': 1, 'message': 1, 'http': 1, 'com': 1, 'qjkgighjjgcbl': 1, 'oh': 1, 'watching': 1, 'eh': 1, 'remember': 1, 'how': 1, 'spell': 1, 'his': 1, 'name': 1, 'yes': 1, 'did': 1, 'v': 3, 'naughty': 1, 'make': 1, 'wet': 1, 'fine': 1, 'if': 1, 'that': 2, 's': 2, 'way': 2, 'feel': 1, 'its': 1, 'gota': 1, 'b': 1, 'england': 2, 'macedonia': 1, 'dont': 1, 'miss': 1, 'goals': 1, 'team': 2, 'news': 1, 'ur': 1, 'national': 1, '87077': 2, 'eg': 1, 'try': 1, 'wales': 1, 'scotland': 1, '4txt': 1, 'poboxox36504w45wq': 1}\n",
            "\n",
            "{'go': 1, 'until': 2, 'jurong': 1, 'point': 1, 'crazy': 1, 'available': 1, 'only': 2, 'in': 4, 'bugis': 1, 'n': 2, 'great': 1, 'world': 1, 'la': 1, 'e': 1, 'buffet': 1, 'cine': 1, 'there': 2, 'got': 1, 'amore': 1, 'wat': 1, 'ok': 2, 'lar': 1, 'joking': 1, 'wif': 1, 'u': 6, 'oni': 1, 'free': 4, 'entry': 2, '2': 2, 'a': 5, 'wkly': 1, 'comp': 1, 'to': 21, 'win': 2, 'fa': 2, 'cup': 1, 'final': 1, 'tkts': 1, '21st': 1, 'may': 1, '2005': 1, 'text': 1, '87121': 1, 'receive': 1, 'question': 1, 'std': 2, 'txt': 5, 'rate': 1, 't': 2, \"c's\": 1, 'apply': 2, \"08452810075over18's\": 1, 'dun': 1, 'say': 2, 'so': 1, 'early': 1, 'hor': 1, 'c': 2, 'already': 1, 'then': 1, 'nah': 1, 'i': 7, \"don't\": 2, 'think': 1, 'he': 3, 'goes': 1, 'usf': 1, 'lives': 1, 'around': 1, 'here': 3, 'though': 1, 'freemsg': 1, 'hey': 1, 'darling': 1, \"it's\": 1, 'been': 5, '3': 1, \"week's\": 1, 'now': 1, 'and': 5, 'no': 2, 'word': 2, 'back': 1, \"i'd\": 1, 'like': 3, 'some': 1, 'fun': 1, 'you': 5, 'up': 1, 'for': 6, 'it': 1, 'still': 1, 'tb': 1, 'xxx': 1, 'chgs': 1, 'send': 2, '1': 3, '50': 1, 'rcv': 1, 'even': 1, 'my': 2, 'brother': 1, 'is': 1, 'not': 1, 'speak': 1, 'with': 3, 'me': 2, 'they': 1, 'treat': 1, 'aids': 1, 'patent': 1, 'as': 3, 'per': 1, 'your': 6, 'request': 1, \"'melle\": 1, 'melle': 1, 'oru': 1, 'minnaminunginte': 1, 'nurungu': 1, 'vettam': 1, \"'\": 1, 'has': 1, 'set': 1, 'callertune': 2, 'all': 2, 'callers': 1, 'press': 1, '9': 1, 'copy': 1, 'friends': 1, 'winner': 1, 'valued': 1, 'network': 1, 'customer': 1, 'have': 4, 'selected': 1, 'receivea': 1, '900': 1, 'prize': 2, 'reward': 1, 'claim': 3, 'call': 2, '09061701461': 1, 'code': 1, 'kl341': 1, 'valid': 1, '12': 1, 'hours': 1, 'had': 1, 'mobile': 2, '11': 1, 'months': 1, 'or': 2, 'more': 1, 'r': 1, 'entitled': 1, 'update': 2, 'the': 9, 'latest': 1, 'colour': 1, 'mobiles': 1, 'camera': 1, 'co': 1, 'on': 2, '08002986030': 1, \"i'm\": 2, 'gonna': 1, 'be': 1, 'home': 1, 'soon': 1, 'want': 1, 'talk': 1, 'about': 1, 'this': 2, 'stuff': 1, 'anymore': 1, 'tonight': 1, 'k': 2, \"i've\": 2, 'cried': 1, 'enough': 1, 'today': 1, 'six': 1, 'chances': 1, 'cash': 1, 'from': 1, '100': 2, '20': 2, '000': 2, 'pounds': 1, 'csh11': 1, '87575': 1, 'cost': 1, '150p': 1, 'day': 1, '6days': 1, '16': 2, 'tsandcs': 1, 'reply': 1, 'hl': 1, '4': 1, 'info': 1, 'urgent': 1, 'won': 1, 'week': 1, 'membership': 1, 'our': 1, 'jackpot': 1, '81010': 1, 'www': 1, 'dbuk': 1, 'net': 1, 'lccltd': 1, 'pobox': 1, '4403ldnw1a7rw18': 1, 'searching': 1, 'right': 1, 'words': 1, 'thank': 1, 'breather': 1, 'promise': 2, 'wont': 1, 'take': 1, 'help': 1, 'granted': 1, 'will': 2, 'fulfil': 1, 'wonderful': 1, 'blessing': 1, 'at': 1, 'times': 1, 'date': 1, 'sunday': 1, 'xxxmobilemovieclub': 2, 'use': 1, 'credit': 1, 'click': 2, 'wap': 2, 'link': 1, 'next': 1, 'message': 1, 'http': 1, 'com': 1, 'qjkgighjjgcbl': 1, 'oh': 1, 'watching': 1, 'eh': 1, 'remember': 1, 'how': 1, 'spell': 1, 'his': 1, 'name': 1, 'yes': 1, 'did': 1, 'v': 3, 'naughty': 1, 'make': 1, 'wet': 1, 'fine': 1, 'if': 1, 'that': 2, 's': 2, 'way': 2, 'feel': 1, 'its': 1, 'gota': 1, 'b': 1, 'england': 2, 'macedonia': 1, 'dont': 1, 'miss': 1, 'goals': 1, 'team': 2, 'news': 1, 'ur': 1, 'national': 1, '87077': 2, 'eg': 1, 'try': 1, 'wales': 1, 'scotland': 1, '4txt': 1, 'poboxox36504w45wq': 1}\n",
            "\n",
            "{'go': 1, 'until': 2, 'jurong': 1, 'point': 1, 'crazy': 1, 'available': 1, 'only': 2, 'in': 4, 'bugis': 1, 'n': 2, 'great': 1, 'world': 1, 'la': 1, 'e': 1, 'buffet': 1, 'cine': 1, 'there': 2, 'got': 1, 'amore': 1, 'wat': 1, 'ok': 2, 'lar': 1, 'joking': 1, 'wif': 1, 'u': 6, 'oni': 1, 'free': 4, 'entry': 2, '2': 2, 'a': 5, 'wkly': 1, 'comp': 1, 'to': 21, 'win': 2, 'fa': 2, 'cup': 1, 'final': 1, 'tkts': 1, '21st': 1, 'may': 1, '2005': 1, 'text': 1, '87121': 1, 'receive': 1, 'question': 1, 'std': 2, 'txt': 5, 'rate': 1, 't': 2, \"c's\": 1, 'apply': 2, \"08452810075over18's\": 1, 'dun': 1, 'say': 2, 'so': 1, 'early': 1, 'hor': 1, 'c': 2, 'already': 1, 'then': 1, 'nah': 1, 'i': 7, \"don't\": 2, 'think': 1, 'he': 3, 'goes': 1, 'usf': 1, 'lives': 1, 'around': 1, 'here': 3, 'though': 1, 'freemsg': 1, 'hey': 1, 'darling': 1, \"it's\": 1, 'been': 5, '3': 1, \"week's\": 1, 'now': 1, 'and': 5, 'no': 2, 'word': 2, 'back': 1, \"i'd\": 1, 'like': 3, 'some': 1, 'fun': 1, 'you': 5, 'up': 1, 'for': 6, 'it': 1, 'still': 1, 'tb': 1, 'xxx': 1, 'chgs': 1, 'send': 2, '1': 3, '50': 1, 'rcv': 1, 'even': 1, 'my': 2, 'brother': 1, 'is': 1, 'not': 1, 'speak': 1, 'with': 3, 'me': 2, 'they': 1, 'treat': 1, 'aids': 1, 'patent': 1, 'as': 3, 'per': 1, 'your': 6, 'request': 1, \"'melle\": 1, 'melle': 1, 'oru': 1, 'minnaminunginte': 1, 'nurungu': 1, 'vettam': 1, \"'\": 1, 'has': 1, 'set': 1, 'callertune': 2, 'all': 2, 'callers': 1, 'press': 1, '9': 1, 'copy': 1, 'friends': 1, 'winner': 1, 'valued': 1, 'network': 1, 'customer': 1, 'have': 4, 'selected': 1, 'receivea': 1, '900': 1, 'prize': 2, 'reward': 1, 'claim': 3, 'call': 2, '09061701461': 1, 'code': 1, 'kl341': 1, 'valid': 1, '12': 1, 'hours': 1, 'had': 1, 'mobile': 2, '11': 1, 'months': 1, 'or': 2, 'more': 1, 'r': 1, 'entitled': 1, 'update': 2, 'the': 9, 'latest': 1, 'colour': 1, 'mobiles': 1, 'camera': 1, 'co': 1, 'on': 2, '08002986030': 1, \"i'm\": 2, 'gonna': 1, 'be': 1, 'home': 1, 'soon': 1, 'want': 1, 'talk': 1, 'about': 1, 'this': 2, 'stuff': 1, 'anymore': 1, 'tonight': 1, 'k': 2, \"i've\": 2, 'cried': 1, 'enough': 1, 'today': 1, 'six': 1, 'chances': 1, 'cash': 1, 'from': 1, '100': 2, '20': 2, '000': 2, 'pounds': 1, 'csh11': 1, '87575': 1, 'cost': 1, '150p': 1, 'day': 1, '6days': 1, '16': 2, 'tsandcs': 1, 'reply': 1, 'hl': 1, '4': 1, 'info': 1, 'urgent': 1, 'won': 1, 'week': 1, 'membership': 1, 'our': 1, 'jackpot': 1, '81010': 1, 'www': 1, 'dbuk': 1, 'net': 1, 'lccltd': 1, 'pobox': 1, '4403ldnw1a7rw18': 1, 'searching': 1, 'right': 1, 'words': 1, 'thank': 1, 'breather': 1, 'promise': 2, 'wont': 1, 'take': 1, 'help': 1, 'granted': 1, 'will': 2, 'fulfil': 1, 'wonderful': 1, 'blessing': 1, 'at': 1, 'times': 1, 'date': 1, 'sunday': 1, 'xxxmobilemovieclub': 2, 'use': 1, 'credit': 1, 'click': 2, 'wap': 2, 'link': 1, 'next': 1, 'message': 1, 'http': 1, 'com': 1, 'qjkgighjjgcbl': 1, 'oh': 1, 'watching': 1, 'eh': 1, 'remember': 1, 'how': 1, 'spell': 1, 'his': 1, 'name': 1, 'yes': 1, 'did': 1, 'v': 3, 'naughty': 1, 'make': 1, 'wet': 1, 'fine': 1, 'if': 1, 'that': 2, 's': 2, 'way': 2, 'feel': 1, 'its': 1, 'gota': 1, 'b': 1, 'england': 2, 'macedonia': 1, 'dont': 1, 'miss': 1, 'goals': 1, 'team': 2, 'news': 1, 'ur': 1, 'national': 1, '87077': 2, 'eg': 1, 'try': 1, 'wales': 1, 'scotland': 1, '4txt': 1, 'poboxox36504w45wq': 1}\n",
            "\n"
          ]
        }
      ],
      "source": [
        "def get_vocab(data, condition=None):\n",
        "    # Начало вашего кода\n",
        "    vocab = {}\n",
        "\n",
        "    if condition is None:\n",
        "        messages = data['message']\n",
        "    elif condition.lower() == \"ham\":\n",
        "        messages = data['message']\n",
        "    elif condition.lower() == \"spam\":\n",
        "        messages = data['message']\n",
        "    else:\n",
        "        messages = data['message']\n",
        "\n",
        "    for message in messages:\n",
        "        words = message.split()\n",
        "        for word in words:\n",
        "            vocab[word] = vocab.get(word, 0) + 1\n",
        "\n",
        "    return vocab\n",
        "    # Конец вашего кода\n",
        "\n",
        "ham_vocab = get_vocab(clean_data, condition=\"ham\")\n",
        "spam_vocab = get_vocab(clean_data, condition=\"spam\")\n",
        "vocab = get_vocab(clean_data)\n",
        "\n",
        "print(ham_vocab, end=\"\\n\\n\")\n",
        "print(spam_vocab, end=\"\\n\\n\")\n",
        "print(vocab, end=\"\\n\\n\")"
      ]
    },
    {
      "cell_type": "markdown",
      "metadata": {
        "id": "DHNvYFJepYqH"
      },
      "source": [
        "### Expected results:\n",
        "\n",
        "```\n",
        "{'go': 1, 'until': 2, 'jurong': 1, 'point': 1, 'crazy': 1, 'available': 1, 'only': 1, 'in': 1, 'bugis': 1, 'n': 1, 'great': 1, 'world': 1, 'la': 1, 'e': 1, 'buffet': 1, 'cine': 1, 'there': 1, 'got': 1, 'amore': 1, 'wat': 1, 'ok': 1, 'lar': 1, 'joking': 1, 'wif': 1, 'u': 5, 'oni': 1, 'dun': 1, 'say': 2, 'so': 1, 'early': 1, 'hor': 1, 'c': 1, 'already': 1, 'then': 1, 'nah': 1, 'i': 11, 'don': 2, 't': 2, 'think': 1, 'he': 3, 'goes': 1, 'to': 5, 'usf': 1, 'lives': 1, 'around': 1, 'here': 2, 'though': 1, 'even': 1, 'my': 2, 'brother': 1, 'is': 1, 'not': 1, 'like': 2, 'speak': 1, 'with': 2, 'me': 2, 'they': 1, 'treat': 1, 'aids': 1, 'patent': 1, 'as': 2, 'per': 1, 'your': 4, 'request': 1, 'melle': 2, 'oru': 1, 'minnaminunginte': 1, 'nurungu': 1, 'vettam': 1, 'has': 1, 'been': 3, 'set': 1, 'callertune': 2, 'for': 4, 'all': 2, 'callers': 1, 'press': 1, '9': 1, 'copy': 1, 'friends': 1, 'm': 2, 'gonna': 1, 'be': 1, 'home': 1, 'soon': 1, 'and': 3, 'want': 1, 'talk': 1, 'about': 1, 'this': 2, 'stuff': 1, 'anymore': 1, 'tonight': 1, 'k': 2, 've': 2, 'cried': 1, 'enough': 1, 'today': 1, 'searching': 1, 'the': 3, 'right': 1, 'words': 1, 'thank': 1, 'you': 2, 'breather': 1, 'promise': 2, 'wont': 1, 'take': 1, 'help': 1, 'granted': 1, 'will': 2, 'fulfil': 1, 'have': 2, 'wonderful': 1, 'a': 2, 'blessing': 1, 'at': 1, 'times': 1, 'date': 1, 'on': 1, 'sunday': 1, 'oh': 1, 'watching': 1, 'eh': 1, 'remember': 1, 'how': 1, '2': 1, 'spell': 1, 'his': 1, 'name': 1, 'yes': 1, 'did': 1, 'v': 2, 'naughty': 1, 'make': 1, 'wet': 1, 'fine': 1, 'if': 1, 'that': 2, 's': 2, 'way': 2, 'feel': 1, 'its': 1, 'gota': 1, 'b': 1}\n",
        "\n",
        "{'go': 1, 'until': 2, 'jurong': 1, 'point': 1, 'crazy': 1, 'available': 1, 'only': 1, 'in': 1, 'bugis': 1, 'n': 1, 'great': 1, 'world': 1, 'la': 1, 'e': 1, 'buffet': 1, 'cine': 1, 'there': 1, 'got': 1, 'amore': 1, 'wat': 1, 'ok': 1, 'lar': 1, 'joking': 1, 'wif': 1, 'u': 5, 'oni': 1, 'dun': 1, 'say': 2, 'so': 1, 'early': 1, 'hor': 1, 'c': 1, 'already': 1, 'then': 1, 'nah': 1, 'i': 11, 'don': 2, 't': 2, 'think': 1, 'he': 3, 'goes': 1, 'to': 5, 'usf': 1, 'lives': 1, 'around': 1, 'here': 2, 'though': 1, 'even': 1, 'my': 2, 'brother': 1, 'is': 1, 'not': 1, 'like': 2, 'speak': 1, 'with': 2, 'me': 2, 'they': 1, 'treat': 1, 'aids': 1, 'patent': 1, 'as': 2, 'per': 1, 'your': 4, 'request': 1, 'melle': 2, 'oru': 1, 'minnaminunginte': 1, 'nurungu': 1, 'vettam': 1, 'has': 1, 'been': 3, 'set': 1, 'callertune': 2, 'for': 4, 'all': 2, 'callers': 1, 'press': 1, '9': 1, 'copy': 1, 'friends': 1, 'm': 2, 'gonna': 1, 'be': 1, 'home': 1, 'soon': 1, 'and': 3, 'want': 1, 'talk': 1, 'about': 1, 'this': 2, 'stuff': 1, 'anymore': 1, 'tonight': 1, 'k': 2, 've': 2, 'cried': 1, 'enough': 1, 'today': 1, 'searching': 1, 'the': 3, 'right': 1, 'words': 1, 'thank': 1, 'you': 2, 'breather': 1, 'promise': 2, 'wont': 1, 'take': 1, 'help': 1, 'granted': 1, 'will': 2, 'fulfil': 1, 'have': 2, 'wonderful': 1, 'a': 2, 'blessing': 1, 'at': 1, 'times': 1, 'date': 1, 'on': 1, 'sunday': 1, 'oh': 1, 'watching': 1, 'eh': 1, 'remember': 1, 'how': 1, '2': 1, 'spell': 1, 'his': 1, 'name': 1, 'yes': 1, 'did': 1, 'v': 2, 'naughty': 1, 'make': 1, 'wet': 1, 'fine': 1, 'if': 1, 'that': 2, 's': 2, 'way': 2, 'feel': 1, 'its': 1, 'gota': 1, 'b': 1}\n",
        "\n",
        "{'go': 1, 'until': 2, 'jurong': 1, 'point': 1, 'crazy': 1, 'available': 1, 'only': 2, 'in': 4, 'bugis': 1, 'n': 2, 'great': 1, 'world': 1, 'la': 1, 'e': 1, 'buffet': 1, 'cine': 1, 'there': 2, 'got': 1, 'amore': 1, 'wat': 1, 'ok': 2, 'lar': 1, 'joking': 1, 'wif': 1, 'u': 6, 'oni': 1, 'free': 4, 'entry': 2, '2': 2, 'a': 5, 'wkly': 1, 'comp': 1, 'to': 21, 'win': 2, 'fa': 2, 'cup': 1, 'final': 1, 'tkts': 1, '21st': 1, 'may': 1, '2005': 1, 'text': 1, '87121': 1, 'receive': 1, 'question': 1, 'std': 2, 'txt': 5, 'rate': 1, 't': 4, 'c': 3, 's': 6, 'apply': 2, '08452810075over18': 1, 'dun': 1, 'say': 2, 'so': 1, 'early': 1, 'hor': 1, 'already': 1, 'then': 1, 'nah': 1, 'i': 12, 'don': 2, 'think': 1, 'he': 3, 'goes': 1, 'usf': 1, 'lives': 1, 'around': 1, 'here': 3, 'though': 1, 'freemsg': 1, 'hey': 1, 'darling': 1, 'it': 2, 'been': 5, '3': 1, 'week': 2, 'now': 1, 'and': 5, 'no': 2, 'word': 2, 'back': 1, 'd': 1, 'like': 3, 'some': 1, 'fun': 1, 'you': 5, 'up': 1, 'for': 6, 'still': 1, 'tb': 1, 'xxx': 1, 'chgs': 1, 'send': 2, '1': 2, '50': 1, 'rcv': 1, 'even': 1, 'my': 2, 'brother': 1, 'is': 1, 'not': 1, 'speak': 1, 'with': 3, 'me': 2, 'they': 1, 'treat': 1, 'aids': 1, 'patent': 1, 'as': 3, 'per': 1, 'your': 6, 'request': 1, 'melle': 2, 'oru': 1, 'minnaminunginte': 1, 'nurungu': 1, 'vettam': 1, 'has': 1, 'set': 1, 'callertune': 2, 'all': 2, 'callers': 1, 'press': 1, '9': 1, 'copy': 1, 'friends': 1, 'winner': 1, 'valued': 1, 'network': 1, 'customer': 1, 'have': 4, 'selected': 1, 'receivea': 1, '900': 1, 'prize': 2, 'reward': 1, 'claim': 3, 'call': 2, '09061701461': 1, 'code': 1, 'kl341': 1, 'valid': 1, '12': 1, 'hours': 1, 'had': 1, 'mobile': 2, '11': 1, 'months': 1, 'or': 2, 'more': 1, 'r': 1, 'entitled': 1, 'update': 2, 'the': 9, 'latest': 1, 'colour': 1, 'mobiles': 1, 'camera': 1, 'co': 1, 'on': 2, '08002986030': 1, 'm': 2, 'gonna': 1, 'be': 1, 'home': 1, 'soon': 1, 'want': 1, 'talk': 1, 'about': 1, 'this': 2, 'stuff': 1, 'anymore': 1, 'tonight': 1, 'k': 2, 've': 2, 'cried': 1, 'enough': 1, 'today': 1, 'six': 1, 'chances': 1, 'cash': 1, 'from': 1, '100': 2, '20': 2, '000': 2, 'pounds': 1, 'csh11': 1, '87575': 1, 'cost': 1, '150p': 1, 'day': 1, '6days': 1, '16': 2, 'tsandcs': 1, 'reply': 1, 'hl': 1, '4': 1, 'info': 1, 'urgent': 1, 'won': 1, 'membership': 1, 'our': 1, 'jackpot': 1, '81010': 1, 'www': 1, 'dbuk': 1, 'net': 1, 'lccltd': 1, 'pobox': 1, '4403ldnw1a7rw18': 1, 'searching': 1, 'right': 1, 'words': 1, 'thank': 1, 'breather': 1, 'promise': 2, 'wont': 1, 'take': 1, 'help': 1, 'granted': 1, 'will': 2, 'fulfil': 1, 'wonderful': 1, 'blessing': 1, 'at': 1, 'times': 1, 'date': 1, 'sunday': 1, 'xxxmobilemovieclub': 2, 'use': 1, 'credit': 1, 'click': 2, 'wap': 2, 'link': 1, 'next': 1, 'message': 1, 'http': 1, 'com': 1, 'qjkgighjjgcbl': 1, 'oh': 1, 'watching': 1, 'eh': 1, 'remember': 1, 'how': 1, 'spell': 1, 'his': 1, 'name': 1, 'yes': 1, 'did': 1, 'v': 3, 'naughty': 1, 'make': 1, 'wet': 1, 'fine': 1, 'if': 1, 'that': 2, 'way': 2, 'feel': 1, 'its': 1, 'gota': 1, 'b': 1, 'england': 2, 'macedonia': 1, 'dont': 1, 'miss': 1, 'goals': 1, 'team': 2, 'news': 1, 'ur': 1, 'national': 1, '87077': 2, 'eg': 1, 'try': 1, 'wales': 1, 'scotland': 1, '4txt': 1, 'ú1': 1, 'poboxox36504w45wq': 1}\n",
        "```"
      ]
    },
    {
      "cell_type": "markdown",
      "metadata": {
        "id": "7dolfwGPpYqH"
      },
      "source": [
        "6. Now the time has come to calculate the conditional probabilities for each word $ p (spam | (w_1, w_2, ..., w_n)) $ and $ p (Ham | (w_1, w_2, ..., w_n) $. Implement the function `` Calc_Prob (*arg) `` `, the first input argument is either` `spam_vocab````, or` `HAM_VOCAB`````, the second input should be` `` vOCAB``` `` `Message``` - a new message from the user."
      ]
    },
    {
      "cell_type": "code",
      "execution_count": 60,
      "metadata": {
        "colab": {
          "base_uri": "https://localhost:8080/"
        },
        "id": "tmuu0_XVpYqH",
        "outputId": "e1d00f37-237a-4031-9b81-a84194bdacb1"
      },
      "outputs": [
        {
          "output_type": "stream",
          "name": "stdout",
          "text": [
            "8.930767982725345e-14\n",
            "8.930767982725345e-14\n",
            "ham\n"
          ]
        }
      ],
      "source": [
        "import re\n",
        "\n",
        "def calc_probs(sam_vocab, vocab, message, alpha=1):\n",
        "    words = re.findall(r'\\b\\w+\\b', message.lower())\n",
        "\n",
        "    total_words = sum(sam_vocab.values())\n",
        "\n",
        "    vocab_size = len(vocab)\n",
        "\n",
        "    prob = 1.0\n",
        "    for word in words:\n",
        "        word_count = sam_vocab.get(word, 0)\n",
        "        word_prob = (word_count + alpha) / (total_words + alpha * vocab_size)\n",
        "        prob *= word_prob\n",
        "\n",
        "    return prob\n",
        "\n",
        "message = \"WINNER WINNER WINNER WINNER WINNER\"\n",
        "\n",
        "p_ham_given_message = p_ham*calc_probs(ham_vocab, vocab, message, alpha=1)\n",
        "p_spam_given_message = p_spam*calc_probs(spam_vocab, vocab, message, alpha=1)\n",
        "\n",
        "print(p_ham_given_message)\n",
        "print(p_spam_given_message)\n",
        "\n",
        "condition = \"ham\"\n",
        "\n",
        "if p_spam_given_message > p_ham_given_message:\n",
        "    condition = \"spam\"\n",
        "print(condition)\n"
      ]
    },
    {
      "cell_type": "markdown",
      "metadata": {
        "id": "KykKSDsfpYqH"
      },
      "source": [
        "### Expected results:\n",
        "\n",
        "```\n",
        "2.282525282024841e-14\n",
        "3.637978807091713e-13\n",
        "spam\n",
        "```"
      ]
    },
    {
      "cell_type": "markdown",
      "metadata": {
        "id": "utSA9jEgpYqH"
      },
      "source": [
        "7. Implement the function `` Filter_spam (Message, P_Spam, Spam_vocab, P_HAM, HAM_VOCAB, VOCAB, Alpha = 1) `` `, which will check if the incoming message is` `spam``` 'or` `HAM``````."
      ]
    },
    {
      "cell_type": "code",
      "execution_count": 61,
      "metadata": {
        "colab": {
          "base_uri": "https://localhost:8080/"
        },
        "id": "BOuK8cIupYqI",
        "outputId": "db8ff6ec-2a54-4f77-81a1-87e543f07858"
      },
      "outputs": [
        {
          "output_type": "stream",
          "name": "stdout",
          "text": [
            "ham\n",
            "ham\n",
            "ham\n",
            "ham\n"
          ]
        }
      ],
      "source": [
        "def filter_spam(message, p_spam, spam_vocab, p_ham, ham_vocab, vocab, alpha=1):\n",
        "    #Начало вашего кода\n",
        "    p_message_given_spam = calc_probs(spam_vocab, vocab, message, alpha)\n",
        "    p_message_given_ham = calc_probs(ham_vocab, vocab, message, alpha)\n",
        "\n",
        "    p_spam_given_message = p_spam * p_message_given_spam\n",
        "    p_ham_given_message = p_ham * p_message_given_ham\n",
        "\n",
        "    if p_spam_given_message > p_ham_given_message:\n",
        "        return \"spam\"\n",
        "    else:\n",
        "        return \"ham\"\n",
        "    #Конец вашего кода\n",
        "\n",
        "\n",
        "print(filter_spam(\"Hello, how are you?\", p_spam, spam_vocab, p_ham, ham_vocab, vocab, alpha=1))\n",
        "print(filter_spam(\"Congrats! You won 1000000\", p_spam, spam_vocab, p_ham, ham_vocab, vocab, alpha=1))\n",
        "print(filter_spam(\"Winner! Winner! Winner!\", p_spam, spam_vocab, p_ham, ham_vocab, vocab, alpha=1))\n",
        "print(filter_spam(\"Urgent! You gor free ticket!\", p_spam, spam_vocab, p_ham, ham_vocab, vocab, alpha=1))"
      ]
    },
    {
      "cell_type": "markdown",
      "metadata": {
        "id": "zaI88lGepYqI"
      },
      "source": [
        "### Expected results:\n",
        "\n",
        "```\n",
        "ham\n",
        "spam\n",
        "spam\n",
        "spam\n",
        "```"
      ]
    },
    {
      "cell_type": "markdown",
      "metadata": {
        "id": "JFoueGhYpYqI"
      },
      "source": [
        "### Great job"
      ]
    }
  ],
  "metadata": {
    "kernelspec": {
      "display_name": "Python 3 (ipykernel)",
      "language": "python",
      "name": "python3"
    },
    "language_info": {
      "codemirror_mode": {
        "name": "ipython",
        "version": 3
      },
      "file_extension": ".py",
      "mimetype": "text/x-python",
      "name": "python",
      "nbconvert_exporter": "python",
      "pygments_lexer": "ipython3",
      "version": "3.12.4"
    },
    "colab": {
      "provenance": []
    }
  },
  "nbformat": 4,
  "nbformat_minor": 0
}